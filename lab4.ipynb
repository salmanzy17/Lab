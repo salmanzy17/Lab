{
 "cells": [
  {
   "cell_type": "code",
   "execution_count": 14,
   "id": "suitable-transformation",
   "metadata": {},
   "outputs": [
    {
     "data": {
      "text/plain": [
       "array([[10, 15, 20, 25, 30],\n",
       "       [35, 40, 45, 50, 55]])"
      ]
     },
     "execution_count": 14,
     "metadata": {},
     "output_type": "execute_result"
    }
   ],
   "source": [
    "import numpy as np \n",
    "a = np.arange(10,60,5).reshape(2,5)\n",
    "a"
   ]
  },
  {
   "cell_type": "code",
   "execution_count": 2,
   "id": "classified-healing",
   "metadata": {},
   "outputs": [
    {
     "name": "stdout",
     "output_type": "stream",
     "text": [
      "[8 4 6 0 2]\n"
     ]
    }
   ],
   "source": [
    "import numpy as np\n",
    "print(np.array([8,4,6,0,2]))"
   ]
  },
  {
   "cell_type": "code",
   "execution_count": 22,
   "id": "reflected-growth",
   "metadata": {},
   "outputs": [
    {
     "name": "stdout",
     "output_type": "stream",
     "text": [
      "[[1 2 3]\n",
      " [4 5 6]]\n",
      " \n",
      "2 6\n",
      " \n",
      "[1 2 3]\n"
     ]
    }
   ],
   "source": [
    "import numpy as np\n",
    "A = np.array( [[1,2,3],[4,5,6]] )\n",
    "print(A)\n",
    "print(\" \")\n",
    "\n",
    "print(A[0,1],A[1,2])\n",
    "print(\" \")\n",
    "print(A[0])"
   ]
  },
  {
   "cell_type": "markdown",
   "id": "instructional-feedback",
   "metadata": {},
   "source": [
    "# Exercise 1.1"
   ]
  },
  {
   "cell_type": "code",
   "execution_count": 28,
   "id": "sought-proxy",
   "metadata": {},
   "outputs": [
    {
     "data": {
      "text/plain": [
       "array([[[ 19,  13, -52,   7]],\n",
       "\n",
       "       [[-30,  21, 103,  39]]])"
      ]
     },
     "execution_count": 28,
     "metadata": {},
     "output_type": "execute_result"
    }
   ],
   "source": [
    "import numpy as np\n",
    "A = np.array( [[3,-1,4],[1,5,-9]] )\n",
    "B = np.array( [[[2,4,-5,6],[-1,7,9,3],[3,2,-7,-2]]] )\n",
    "np.dot(A,B)"
   ]
  },
  {
   "cell_type": "markdown",
   "id": "periodic-roller",
   "metadata": {},
   "source": [
    "# Exercise 1.4:"
   ]
  },
  {
   "cell_type": "code",
   "execution_count": 34,
   "id": "political-english",
   "metadata": {},
   "outputs": [
    {
     "name": "stdout",
     "output_type": "stream",
     "text": [
      "[13  6 11]\n",
      "[20  8 12]\n",
      "[ 8 -2  4]\n",
      "[15 -8  3]\n",
      "-4\n",
      "0\n"
     ]
    }
   ],
   "source": [
    "import numpy as np\n",
    "X = np.array( [3,-4,1] )\n",
    "Y = np.array( [5,2,3] )\n",
    "print(X+10)\n",
    "print(Y*4)\n",
    "print(X+Y)\n",
    "print(X*Y)\n",
    "\n",
    "print(X.min())\n",
    "print(X.argmax())"
   ]
  },
  {
   "cell_type": "markdown",
   "id": "abroad-lying",
   "metadata": {},
   "source": [
    "# Part 2"
   ]
  },
  {
   "cell_type": "code",
   "execution_count": 36,
   "id": "mental-portland",
   "metadata": {},
   "outputs": [
    {
     "name": "stdout",
     "output_type": "stream",
     "text": [
      "e:\\Users\\ACER\\anaconda3\\lib\\site-packages\\sklearn\\datasets\\data\\iris.csv\n"
     ]
    }
   ],
   "source": [
    "from sklearn import datasets\n",
    "iris = datasets.load_iris()\n",
    "print(iris.filename)\n"
   ]
  },
  {
   "cell_type": "code",
   "execution_count": 45,
   "id": "serial-character",
   "metadata": {},
   "outputs": [],
   "source": [
    "import numpy as np\n",
    "iris_data = np.genfromtxt(R'E:\\Users\\ACER\\anaconda3\\lib\\site-packages\\sklearn\\datasets\\data\\iris.csv' ,\n",
    "                         delimiter = \",\",skip_header=1)"
   ]
  },
  {
   "cell_type": "code",
   "execution_count": null,
   "id": "developed-italic",
   "metadata": {},
   "outputs": [],
   "source": []
  },
  {
   "cell_type": "code",
   "execution_count": null,
   "id": "incoming-chance",
   "metadata": {},
   "outputs": [],
   "source": []
  },
  {
   "cell_type": "code",
   "execution_count": null,
   "id": "statutory-lemon",
   "metadata": {},
   "outputs": [],
   "source": []
  }
 ],
 "metadata": {
  "kernelspec": {
   "display_name": "Python 3",
   "language": "python",
   "name": "python3"
  },
  "language_info": {
   "codemirror_mode": {
    "name": "ipython",
    "version": 3
   },
   "file_extension": ".py",
   "mimetype": "text/x-python",
   "name": "python",
   "nbconvert_exporter": "python",
   "pygments_lexer": "ipython3",
   "version": "3.8.5"
  }
 },
 "nbformat": 4,
 "nbformat_minor": 5
}
