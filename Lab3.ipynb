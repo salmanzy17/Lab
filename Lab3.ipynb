{
 "cells": [
  {
   "cell_type": "code",
   "execution_count": 7,
   "id": "secret-adoption",
   "metadata": {},
   "outputs": [
    {
     "name": "stdout",
     "output_type": "stream",
     "text": [
      "Welcome\n",
      "My favorite # is 42\n"
     ]
    }
   ],
   "source": [
    "def conform(fav):\n",
    "    fav = 42\n",
    "    return fav\n",
    "if __name__ == \"__main__\":\n",
    "    fav = 7\n",
    "    print ('Welcome')\n",
    "     conform(fav)\n",
    "    print(\"My favorite # is\",fav)"
   ]
  },
  {
   "cell_type": "code",
   "execution_count": 8,
   "id": "genetic-springfield",
   "metadata": {},
   "outputs": [
    {
     "name": "stdout",
     "output_type": "stream",
     "text": [
      "inside the func {'A': 28, 'B': 25, 'C': 32, 'D': 25, 'E': 30, 'F': 28}\n",
      "outside the func:  {'A': 28, 'B': 25, 'C': 32, 'D': 25, 'E': 30, 'F': 28}\n"
     ]
    }
   ],
   "source": [
    "student= {'A':28,'B':25,\"C\":32,'D':25}\n",
    "def test(student):\n",
    "    new={'E':30,'F':28}\n",
    "    student.update(new)\n",
    "    print(\"inside the func\",student)\n",
    "    return\n",
    "test(student)\n",
    "print(\"outside the func: \",student)"
   ]
  },
  {
   "cell_type": "code",
   "execution_count": 9,
   "id": "metallic-speaking",
   "metadata": {},
   "outputs": [
    {
     "name": "stdout",
     "output_type": "stream",
     "text": [
      "Salman\n"
     ]
    }
   ],
   "source": [
    "class Student:\n",
    "    def __init__(self, name):\n",
    "        self.name=name\n",
    "        self.course_list = []\n",
    "std= Student(\"Salman\")\n",
    "print(std.name)"
   ]
  },
  {
   "cell_type": "markdown",
   "id": "desperate-alaska",
   "metadata": {},
   "source": [
    "# for Private __var\n",
    "# protected _var\n"
   ]
  },
  {
   "cell_type": "code",
   "execution_count": 11,
   "id": "optimum-candy",
   "metadata": {},
   "outputs": [
    {
     "name": "stdout",
     "output_type": "stream",
     "text": [
      "Write Down a Class : English\n",
      "['English']\n"
     ]
    }
   ],
   "source": [
    "class Student:\n",
    "    def __init__(self, name):\n",
    "        self.name=name\n",
    "        self.course_list = []\n",
    "    def add(self,new_course):\n",
    "        self.course_list.append(new_course)\n",
    "std = Student(\"Salman\")\n",
    "txt=input(\"Write Down a Class : \")\n",
    "std.add(txt)\n",
    "print(std.course_list)"
   ]
  },
  {
   "cell_type": "code",
   "execution_count": 15,
   "id": "national-terrorist",
   "metadata": {},
   "outputs": [
    {
     "name": "stdout",
     "output_type": "stream",
     "text": [
      "Mohammed AlSarem\n"
     ]
    }
   ],
   "source": [
    "class Person:\n",
    "    def __init__(self,fname,lname):\n",
    "        self.firstname = fname\n",
    "        self.lastname=lname\n",
    "    def printname(self):\n",
    "        print(self.firstname, self.lastname)\n",
    "\n",
    "class Professor(Person):\n",
    "    pass\n",
    "mhd = Professor(\"Mohammed\",\"AlSarem\")\n",
    "mhd.printname()"
   ]
  },
  {
   "cell_type": "code",
   "execution_count": null,
   "id": "three-cathedral",
   "metadata": {},
   "outputs": [],
   "source": []
  },
  {
   "cell_type": "code",
   "execution_count": null,
   "id": "charming-recall",
   "metadata": {},
   "outputs": [],
   "source": []
  }
 ],
 "metadata": {
  "kernelspec": {
   "display_name": "Python 3",
   "language": "python",
   "name": "python3"
  },
  "language_info": {
   "codemirror_mode": {
    "name": "ipython",
    "version": 3
   },
   "file_extension": ".py",
   "mimetype": "text/x-python",
   "name": "python",
   "nbconvert_exporter": "python",
   "pygments_lexer": "ipython3",
   "version": "3.8.5"
  }
 },
 "nbformat": 4,
 "nbformat_minor": 5
}
