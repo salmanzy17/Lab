{
 "cells": [
  {
   "cell_type": "code",
   "execution_count": 5,
   "id": "czech-graphics",
   "metadata": {},
   "outputs": [
    {
     "name": "stdout",
     "output_type": "stream",
     "text": [
      "3.8.5\n"
     ]
    }
   ],
   "source": [
    "from platform import python_version\n",
    "print(python_version())"
   ]
  },
  {
   "cell_type": "code",
   "execution_count": 9,
   "id": "nutritional-locking",
   "metadata": {},
   "outputs": [],
   "source": [
    "#filename.py\n",
    "'''\n",
    "comment\n",
    "'''\n",
    "if __name__==\"__main__\":\n",
    "    pass #\n"
   ]
  },
  {
   "cell_type": "code",
   "execution_count": 8,
   "id": "previous-cause",
   "metadata": {},
   "outputs": [
    {
     "name": "stdout",
     "output_type": "stream",
     "text": [
      "hello, world!\n"
     ]
    }
   ],
   "source": [
    "if __name__ == \"__main__\":\n",
    "    print(\"hello, world!\")"
   ]
  },
  {
   "cell_type": "code",
   "execution_count": 10,
   "id": "elect-occasion",
   "metadata": {},
   "outputs": [
    {
     "name": "stdout",
     "output_type": "stream",
     "text": [
      "1 3\n"
     ]
    }
   ],
   "source": [
    "x,y=1,3\n",
    "print(x,y)"
   ]
  },
  {
   "cell_type": "code",
   "execution_count": 11,
   "id": "broken-redhead",
   "metadata": {},
   "outputs": [
    {
     "name": "stdout",
     "output_type": "stream",
     "text": [
      "Help on built-in function print in module builtins:\n",
      "\n",
      "print(...)\n",
      "    print(value, ..., sep=' ', end='\\n', file=sys.stdout, flush=False)\n",
      "    \n",
      "    Prints the values to a stream, or to sys.stdout by default.\n",
      "    Optional keyword arguments:\n",
      "    file:  a file-like object (stream); defaults to the current sys.stdout.\n",
      "    sep:   string inserted between values, default a space.\n",
      "    end:   string appended after the last value, default a newline.\n",
      "    flush: whether to forcibly flush the stream.\n",
      "\n"
     ]
    }
   ],
   "source": [
    "help(print)"
   ]
  },
  {
   "cell_type": "code",
   "execution_count": 19,
   "id": "effective-battery",
   "metadata": {},
   "outputs": [
    {
     "name": "stdout",
     "output_type": "stream",
     "text": [
      "1\n"
     ]
    }
   ],
   "source": [
    "x , y = 1, 4\n",
    "z =x+y\n",
    "print(z%2)"
   ]
  },
  {
   "cell_type": "code",
   "execution_count": 21,
   "id": "overall-stake",
   "metadata": {},
   "outputs": [
    {
     "data": {
      "text/plain": [
       "False"
      ]
     },
     "execution_count": 21,
     "metadata": {},
     "output_type": "execute_result"
    }
   ],
   "source": [
    "x==y"
   ]
  },
  {
   "cell_type": "code",
   "execution_count": 49,
   "id": "exceptional-interval",
   "metadata": {},
   "outputs": [
    {
     "name": "stdout",
     "output_type": "stream",
     "text": [
      "(9, -1, 1.25, 20)\n"
     ]
    }
   ],
   "source": [
    "def mathematical(x,y):\n",
    "    if x==1:\n",
    "        x=0\n",
    "    add=x+y\n",
    "    sub=y-x\n",
    "    multi= x*y\n",
    "    divi =x/y\n",
    "    return add,sub,divi,multi\n",
    "\n",
    "z = mathematical(5,4)\n",
    "print(z)"
   ]
  },
  {
   "cell_type": "markdown",
   "id": "potential-aviation",
   "metadata": {},
   "source": [
    "Exercise 5: The volume of a sphere with radius 𝑟 is \n",
    "$$v=\\frac{4}{3}. \\pi.r^3$$\n",
    "define a function called sphere_volume() that accepts a single parameter r. Return the volume of the sphere of radius r, using 3.14159 as an approximation for 𝜋 (for now). To test your function, call it under the if __name__ == \"__main__\" clause and print the returned value. Run your file to see if your answer is what you expect it to be."
   ]
  },
  {
   "cell_type": "code",
   "execution_count": 48,
   "id": "adolescent-mission",
   "metadata": {},
   "outputs": [
    {
     "name": "stdout",
     "output_type": "stream",
     "text": [
      "523.5983333333332\n"
     ]
    }
   ],
   "source": [
    "def sphere_volume(r):\n",
    "    Pi=3.14159\n",
    "    v = 4/3 * Pi * r **3\n",
    "    return v\n",
    "if __name__ ==\"__main__\":\n",
    "    volume = sphere_volume(5)\n",
    "    print(volume)"
   ]
  },
  {
   "cell_type": "code",
   "execution_count": 46,
   "id": "express-flush",
   "metadata": {},
   "outputs": [
    {
     "name": "stdout",
     "output_type": "stream",
     "text": [
      "is372Prof.Mohammedin 19\n"
     ]
    }
   ],
   "source": [
    "def information (course, Prof, Level= '8'):\n",
    "    print(course + Prof + \"in \" + str(Level))\n",
    "    \n",
    "information('is372','Prof.Mohammed',19)"
   ]
  },
  {
   "cell_type": "markdown",
   "id": "recognized-indonesia",
   "metadata": {},
   "source": [
    "Data Types and Structures"
   ]
  },
  {
   "cell_type": "markdown",
   "id": "front-banana",
   "metadata": {},
   "source": [
    "Exercise 7: Write a function called list_ops(). Define a list with the entries \"bear\", \"ant\", \"cat\", and \"dog\", in that order. Then perform the following"
   ]
  },
  {
   "cell_type": "code",
   "execution_count": 52,
   "id": "painted-syntax",
   "metadata": {},
   "outputs": [
    {
     "name": "stdout",
     "output_type": "stream",
     "text": [
      "{1, 3, 4, 5, 6, 7}\n",
      "{1, 3}\n"
     ]
    }
   ],
   "source": [
    "set1 = {1,3,4,6}\n",
    "set2={3,1,5,7}\n",
    "union= set1.union(set2)\n",
    "intersection=set1.intersection(set2)\n",
    "print(union)\n",
    "print(intersection)"
   ]
  },
  {
   "cell_type": "markdown",
   "id": "tender-smell",
   "metadata": {},
   "source": [
    "1.7 Dictionareis"
   ]
  },
  {
   "cell_type": "code",
   "execution_count": 54,
   "id": "nasty-copying",
   "metadata": {},
   "outputs": [
    {
     "data": {
      "text/plain": [
       "dict_values([10, 5])"
      ]
     },
     "execution_count": 54,
     "metadata": {},
     "output_type": "execute_result"
    }
   ],
   "source": [
    "dic = {\"Key1\":10, \"Key2\":5}\n",
    "dic[\"Key1\"]\n",
    "dic.values()"
   ]
  },
  {
   "cell_type": "markdown",
   "id": "bigger-slope",
   "metadata": {},
   "source": [
    "2.1 Control Flow Tools"
   ]
  },
  {
   "cell_type": "code",
   "execution_count": 55,
   "id": "quick-telling",
   "metadata": {},
   "outputs": [
    {
     "ename": "NameError",
     "evalue": "name 'condition' is not defined",
     "output_type": "error",
     "traceback": [
      "\u001b[1;31m---------------------------------------------------------------------------\u001b[0m",
      "\u001b[1;31mNameError\u001b[0m                                 Traceback (most recent call last)",
      "\u001b[1;32m<ipython-input-55-8eecbe54e863>\u001b[0m in \u001b[0;36m<module>\u001b[1;34m\u001b[0m\n\u001b[1;32m----> 1\u001b[1;33m \u001b[1;32mif\u001b[0m\u001b[1;33m(\u001b[0m\u001b[0mcondition\u001b[0m\u001b[1;33m)\u001b[0m\u001b[1;33m:\u001b[0m\u001b[1;33m\u001b[0m\u001b[1;33m\u001b[0m\u001b[0m\n\u001b[0m\u001b[0;32m      2\u001b[0m     \u001b[0mstatment\u001b[0m\u001b[1;33m\u001b[0m\u001b[1;33m\u001b[0m\u001b[0m\n\u001b[0;32m      3\u001b[0m \u001b[1;32melse\u001b[0m\u001b[1;33m:\u001b[0m\u001b[1;33m\u001b[0m\u001b[1;33m\u001b[0m\u001b[0m\n\u001b[0;32m      4\u001b[0m     \u001b[0mstt\u001b[0m\u001b[1;33m\u001b[0m\u001b[1;33m\u001b[0m\u001b[0m\n",
      "\u001b[1;31mNameError\u001b[0m: name 'condition' is not defined"
     ]
    }
   ],
   "source": [
    "if(condition):\n",
    "    statment\n",
    "else:\n",
    "    stt"
   ]
  },
  {
   "cell_type": "markdown",
   "id": "central-milwaukee",
   "metadata": {},
   "source": [
    "## ForLoop"
   ]
  },
  {
   "cell_type": "code",
   "execution_count": 61,
   "id": "pleasant-printer",
   "metadata": {},
   "outputs": [
    {
     "name": "stdout",
     "output_type": "stream",
     "text": [
      "\n",
      "s\n",
      "st\n",
      "sta\n",
      "stab\n"
     ]
    }
   ],
   "source": [
    "s = \"stab\"\n",
    "for i in range(len(s)+1):\n",
    "    print(s[0:i:1])"
   ]
  },
  {
   "cell_type": "code",
   "execution_count": 62,
   "id": "casual-thought",
   "metadata": {},
   "outputs": [
    {
     "name": "stdout",
     "output_type": "stream",
     "text": [
      "Help on class range in module builtins:\n",
      "\n",
      "class range(object)\n",
      " |  range(stop) -> range object\n",
      " |  range(start, stop[, step]) -> range object\n",
      " |  \n",
      " |  Return an object that produces a sequence of integers from start (inclusive)\n",
      " |  to stop (exclusive) by step.  range(i, j) produces i, i+1, i+2, ..., j-1.\n",
      " |  start defaults to 0, and stop is omitted!  range(4) produces 0, 1, 2, 3.\n",
      " |  These are exactly the valid indices for a list of 4 elements.\n",
      " |  When step is given, it specifies the increment (or decrement).\n",
      " |  \n",
      " |  Methods defined here:\n",
      " |  \n",
      " |  __bool__(self, /)\n",
      " |      self != 0\n",
      " |  \n",
      " |  __contains__(self, key, /)\n",
      " |      Return key in self.\n",
      " |  \n",
      " |  __eq__(self, value, /)\n",
      " |      Return self==value.\n",
      " |  \n",
      " |  __ge__(self, value, /)\n",
      " |      Return self>=value.\n",
      " |  \n",
      " |  __getattribute__(self, name, /)\n",
      " |      Return getattr(self, name).\n",
      " |  \n",
      " |  __getitem__(self, key, /)\n",
      " |      Return self[key].\n",
      " |  \n",
      " |  __gt__(self, value, /)\n",
      " |      Return self>value.\n",
      " |  \n",
      " |  __hash__(self, /)\n",
      " |      Return hash(self).\n",
      " |  \n",
      " |  __iter__(self, /)\n",
      " |      Implement iter(self).\n",
      " |  \n",
      " |  __le__(self, value, /)\n",
      " |      Return self<=value.\n",
      " |  \n",
      " |  __len__(self, /)\n",
      " |      Return len(self).\n",
      " |  \n",
      " |  __lt__(self, value, /)\n",
      " |      Return self<value.\n",
      " |  \n",
      " |  __ne__(self, value, /)\n",
      " |      Return self!=value.\n",
      " |  \n",
      " |  __reduce__(...)\n",
      " |      Helper for pickle.\n",
      " |  \n",
      " |  __repr__(self, /)\n",
      " |      Return repr(self).\n",
      " |  \n",
      " |  __reversed__(...)\n",
      " |      Return a reverse iterator.\n",
      " |  \n",
      " |  count(...)\n",
      " |      rangeobject.count(value) -> integer -- return number of occurrences of value\n",
      " |  \n",
      " |  index(...)\n",
      " |      rangeobject.index(value) -> integer -- return index of value.\n",
      " |      Raise ValueError if the value is not present.\n",
      " |  \n",
      " |  ----------------------------------------------------------------------\n",
      " |  Static methods defined here:\n",
      " |  \n",
      " |  __new__(*args, **kwargs) from builtins.type\n",
      " |      Create and return a new object.  See help(type) for accurate signature.\n",
      " |  \n",
      " |  ----------------------------------------------------------------------\n",
      " |  Data descriptors defined here:\n",
      " |  \n",
      " |  start\n",
      " |  \n",
      " |  step\n",
      " |  \n",
      " |  stop\n",
      "\n"
     ]
    }
   ],
   "source": [
    "help(range)"
   ]
  },
  {
   "cell_type": "code",
   "execution_count": null,
   "id": "confirmed-devil",
   "metadata": {},
   "outputs": [],
   "source": []
  }
 ],
 "metadata": {
  "kernelspec": {
   "display_name": "Python 3",
   "language": "python",
   "name": "python3"
  },
  "language_info": {
   "codemirror_mode": {
    "name": "ipython",
    "version": 3
   },
   "file_extension": ".py",
   "mimetype": "text/x-python",
   "name": "python",
   "nbconvert_exporter": "python",
   "pygments_lexer": "ipython3",
   "version": "3.8.5"
  }
 },
 "nbformat": 4,
 "nbformat_minor": 5
}
