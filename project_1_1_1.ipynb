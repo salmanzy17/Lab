{
 "cells": [
  {
   "cell_type": "code",
   "execution_count": 46,
   "metadata": {},
   "outputs": [],
   "source": [
    "import pandas as pd\n",
    "import numpy as np\n",
    "import seaborn as sns\n",
    "import matplotlib.pyplot as plt\n",
    "from sklearn import datasets\n",
    "from sklearn.preprocessing import LabelEncoder\n",
    "from sklearn.tree import DecisionTreeClassifier, export_graphviz\n",
    "from sklearn.model_selection import train_test_split\n",
    "from sklearn.metrics import accuracy_score\n",
    "from sklearn.naive_bayes import GaussianNB,BernoulliNB\n",
    "from sklearn.cluster import KMeans\n",
    "import graphviz\n",
    "seed = 10\n",
    "%matplotlib inline\n",
    "sns.set(color_codes=True)"
   ]
  },
  {
   "cell_type": "code",
   "execution_count": 3,
   "metadata": {
    "scrolled": false
   },
   "outputs": [
    {
     "data": {
      "text/html": [
       "<div>\n",
       "<style scoped>\n",
       "    .dataframe tbody tr th:only-of-type {\n",
       "        vertical-align: middle;\n",
       "    }\n",
       "\n",
       "    .dataframe tbody tr th {\n",
       "        vertical-align: top;\n",
       "    }\n",
       "\n",
       "    .dataframe thead th {\n",
       "        text-align: right;\n",
       "    }\n",
       "</style>\n",
       "<table border=\"1\" class=\"dataframe\">\n",
       "  <thead>\n",
       "    <tr style=\"text-align: right;\">\n",
       "      <th></th>\n",
       "      <th>TA is a native English speaker 1=English speaker, 2=non-English speaker</th>\n",
       "      <th>Course instructor</th>\n",
       "      <th>Course</th>\n",
       "      <th>Summer or regular semester 1=Summer, 2=Regular</th>\n",
       "      <th>Class size</th>\n",
       "      <th>score 1=Low, 2=Medium, 3=High</th>\n",
       "    </tr>\n",
       "  </thead>\n",
       "  <tbody>\n",
       "    <tr>\n",
       "      <th>0</th>\n",
       "      <td>1</td>\n",
       "      <td>23</td>\n",
       "      <td>3</td>\n",
       "      <td>1</td>\n",
       "      <td>19</td>\n",
       "      <td>3</td>\n",
       "    </tr>\n",
       "    <tr>\n",
       "      <th>1</th>\n",
       "      <td>2</td>\n",
       "      <td>15</td>\n",
       "      <td>3</td>\n",
       "      <td>1</td>\n",
       "      <td>17</td>\n",
       "      <td>3</td>\n",
       "    </tr>\n",
       "    <tr>\n",
       "      <th>2</th>\n",
       "      <td>1</td>\n",
       "      <td>23</td>\n",
       "      <td>3</td>\n",
       "      <td>2</td>\n",
       "      <td>49</td>\n",
       "      <td>3</td>\n",
       "    </tr>\n",
       "    <tr>\n",
       "      <th>3</th>\n",
       "      <td>1</td>\n",
       "      <td>5</td>\n",
       "      <td>2</td>\n",
       "      <td>2</td>\n",
       "      <td>33</td>\n",
       "      <td>3</td>\n",
       "    </tr>\n",
       "    <tr>\n",
       "      <th>4</th>\n",
       "      <td>2</td>\n",
       "      <td>7</td>\n",
       "      <td>11</td>\n",
       "      <td>2</td>\n",
       "      <td>55</td>\n",
       "      <td>3</td>\n",
       "    </tr>\n",
       "    <tr>\n",
       "      <th>...</th>\n",
       "      <td>...</td>\n",
       "      <td>...</td>\n",
       "      <td>...</td>\n",
       "      <td>...</td>\n",
       "      <td>...</td>\n",
       "      <td>...</td>\n",
       "    </tr>\n",
       "    <tr>\n",
       "      <th>146</th>\n",
       "      <td>2</td>\n",
       "      <td>3</td>\n",
       "      <td>2</td>\n",
       "      <td>2</td>\n",
       "      <td>26</td>\n",
       "      <td>1</td>\n",
       "    </tr>\n",
       "    <tr>\n",
       "      <th>147</th>\n",
       "      <td>2</td>\n",
       "      <td>10</td>\n",
       "      <td>3</td>\n",
       "      <td>2</td>\n",
       "      <td>12</td>\n",
       "      <td>1</td>\n",
       "    </tr>\n",
       "    <tr>\n",
       "      <th>148</th>\n",
       "      <td>1</td>\n",
       "      <td>18</td>\n",
       "      <td>7</td>\n",
       "      <td>2</td>\n",
       "      <td>48</td>\n",
       "      <td>1</td>\n",
       "    </tr>\n",
       "    <tr>\n",
       "      <th>149</th>\n",
       "      <td>2</td>\n",
       "      <td>22</td>\n",
       "      <td>1</td>\n",
       "      <td>2</td>\n",
       "      <td>51</td>\n",
       "      <td>1</td>\n",
       "    </tr>\n",
       "    <tr>\n",
       "      <th>150</th>\n",
       "      <td>2</td>\n",
       "      <td>2</td>\n",
       "      <td>10</td>\n",
       "      <td>2</td>\n",
       "      <td>27</td>\n",
       "      <td>1</td>\n",
       "    </tr>\n",
       "  </tbody>\n",
       "</table>\n",
       "<p>151 rows × 6 columns</p>\n",
       "</div>"
      ],
      "text/plain": [
       "     TA is a native English speaker 1=English speaker, 2=non-English speaker  \\\n",
       "0                                                    1                         \n",
       "1                                                    2                         \n",
       "2                                                    1                         \n",
       "3                                                    1                         \n",
       "4                                                    2                         \n",
       "..                                                 ...                         \n",
       "146                                                  2                         \n",
       "147                                                  2                         \n",
       "148                                                  1                         \n",
       "149                                                  2                         \n",
       "150                                                  2                         \n",
       "\n",
       "     Course instructor  Course  \\\n",
       "0                   23       3   \n",
       "1                   15       3   \n",
       "2                   23       3   \n",
       "3                    5       2   \n",
       "4                    7      11   \n",
       "..                 ...     ...   \n",
       "146                  3       2   \n",
       "147                 10       3   \n",
       "148                 18       7   \n",
       "149                 22       1   \n",
       "150                  2      10   \n",
       "\n",
       "     Summer or regular semester 1=Summer, 2=Regular  Class size   \\\n",
       "0                                                 1           19   \n",
       "1                                                 1           17   \n",
       "2                                                 2           49   \n",
       "3                                                 2           33   \n",
       "4                                                 2           55   \n",
       "..                                              ...          ...   \n",
       "146                                               2           26   \n",
       "147                                               2           12   \n",
       "148                                               2           48   \n",
       "149                                               2           51   \n",
       "150                                               2           27   \n",
       "\n",
       "     score 1=Low, 2=Medium, 3=High  \n",
       "0                                3  \n",
       "1                                3  \n",
       "2                                3  \n",
       "3                                3  \n",
       "4                                3  \n",
       "..                             ...  \n",
       "146                              1  \n",
       "147                              1  \n",
       "148                              1  \n",
       "149                              1  \n",
       "150                              1  \n",
       "\n",
       "[151 rows x 6 columns]"
      ]
     },
     "execution_count": 3,
     "metadata": {},
     "output_type": "execute_result"
    }
   ],
   "source": [
    "dataset=pd.read_csv(r'D:\\IS\\DataMining\\dataset\\tae.csv', delimiter=',', header= None\n",
    "                    ,names=['TA is a native English speaker 1=English speaker, 2=non-English speaker', 'Course instructor'\n",
    "                    ,'Course', 'Summer or regular semester 1=Summer, 2=Regular','Class size ','score 1=Low, 2=Medium, 3=High'])\n",
    "\n",
    "dataset.head(151)"
   ]
  },
  {
   "cell_type": "code",
   "execution_count": 4,
   "metadata": {},
   "outputs": [
    {
     "name": "stdout",
     "output_type": "stream",
     "text": [
      "<class 'pandas.core.frame.DataFrame'>\n",
      "RangeIndex: 151 entries, 0 to 150\n",
      "Data columns (total 6 columns):\n",
      " #   Column                                                                   Non-Null Count  Dtype\n",
      "---  ------                                                                   --------------  -----\n",
      " 0   TA is a native English speaker 1=English speaker, 2=non-English speaker  151 non-null    int64\n",
      " 1   Course instructor                                                        151 non-null    int64\n",
      " 2   Course                                                                   151 non-null    int64\n",
      " 3   Summer or regular semester 1=Summer, 2=Regular                           151 non-null    int64\n",
      " 4   Class size                                                               151 non-null    int64\n",
      " 5   score 1=Low, 2=Medium, 3=High                                            151 non-null    int64\n",
      "dtypes: int64(6)\n",
      "memory usage: 7.2 KB\n"
     ]
    }
   ],
   "source": [
    "dataset.info()"
   ]
  },
  {
   "cell_type": "code",
   "execution_count": 5,
   "metadata": {},
   "outputs": [
    {
     "data": {
      "text/html": [
       "<div>\n",
       "<style scoped>\n",
       "    .dataframe tbody tr th:only-of-type {\n",
       "        vertical-align: middle;\n",
       "    }\n",
       "\n",
       "    .dataframe tbody tr th {\n",
       "        vertical-align: top;\n",
       "    }\n",
       "\n",
       "    .dataframe thead th {\n",
       "        text-align: right;\n",
       "    }\n",
       "</style>\n",
       "<table border=\"1\" class=\"dataframe\">\n",
       "  <thead>\n",
       "    <tr style=\"text-align: right;\">\n",
       "      <th></th>\n",
       "      <th>TA is a native English speaker 1=English speaker, 2=non-English speaker</th>\n",
       "      <th>Course instructor</th>\n",
       "      <th>Course</th>\n",
       "      <th>Summer or regular semester 1=Summer, 2=Regular</th>\n",
       "      <th>Class size</th>\n",
       "      <th>score 1=Low, 2=Medium, 3=High</th>\n",
       "    </tr>\n",
       "  </thead>\n",
       "  <tbody>\n",
       "    <tr>\n",
       "      <th>count</th>\n",
       "      <td>151.000000</td>\n",
       "      <td>151.000000</td>\n",
       "      <td>151.000000</td>\n",
       "      <td>151.000000</td>\n",
       "      <td>151.000000</td>\n",
       "      <td>151.000000</td>\n",
       "    </tr>\n",
       "    <tr>\n",
       "      <th>mean</th>\n",
       "      <td>1.807947</td>\n",
       "      <td>13.642384</td>\n",
       "      <td>8.105960</td>\n",
       "      <td>1.847682</td>\n",
       "      <td>27.867550</td>\n",
       "      <td>2.019868</td>\n",
       "    </tr>\n",
       "    <tr>\n",
       "      <th>std</th>\n",
       "      <td>0.395225</td>\n",
       "      <td>6.825779</td>\n",
       "      <td>7.023914</td>\n",
       "      <td>0.360525</td>\n",
       "      <td>12.893758</td>\n",
       "      <td>0.820327</td>\n",
       "    </tr>\n",
       "    <tr>\n",
       "      <th>min</th>\n",
       "      <td>1.000000</td>\n",
       "      <td>1.000000</td>\n",
       "      <td>1.000000</td>\n",
       "      <td>1.000000</td>\n",
       "      <td>3.000000</td>\n",
       "      <td>1.000000</td>\n",
       "    </tr>\n",
       "    <tr>\n",
       "      <th>25%</th>\n",
       "      <td>2.000000</td>\n",
       "      <td>8.000000</td>\n",
       "      <td>3.000000</td>\n",
       "      <td>2.000000</td>\n",
       "      <td>19.000000</td>\n",
       "      <td>1.000000</td>\n",
       "    </tr>\n",
       "    <tr>\n",
       "      <th>50%</th>\n",
       "      <td>2.000000</td>\n",
       "      <td>13.000000</td>\n",
       "      <td>4.000000</td>\n",
       "      <td>2.000000</td>\n",
       "      <td>27.000000</td>\n",
       "      <td>2.000000</td>\n",
       "    </tr>\n",
       "    <tr>\n",
       "      <th>75%</th>\n",
       "      <td>2.000000</td>\n",
       "      <td>20.000000</td>\n",
       "      <td>15.000000</td>\n",
       "      <td>2.000000</td>\n",
       "      <td>37.000000</td>\n",
       "      <td>3.000000</td>\n",
       "    </tr>\n",
       "    <tr>\n",
       "      <th>max</th>\n",
       "      <td>2.000000</td>\n",
       "      <td>25.000000</td>\n",
       "      <td>26.000000</td>\n",
       "      <td>2.000000</td>\n",
       "      <td>66.000000</td>\n",
       "      <td>3.000000</td>\n",
       "    </tr>\n",
       "  </tbody>\n",
       "</table>\n",
       "</div>"
      ],
      "text/plain": [
       "       TA is a native English speaker 1=English speaker, 2=non-English speaker  \\\n",
       "count                                         151.000000                         \n",
       "mean                                            1.807947                         \n",
       "std                                             0.395225                         \n",
       "min                                             1.000000                         \n",
       "25%                                             2.000000                         \n",
       "50%                                             2.000000                         \n",
       "75%                                             2.000000                         \n",
       "max                                             2.000000                         \n",
       "\n",
       "       Course instructor      Course  \\\n",
       "count         151.000000  151.000000   \n",
       "mean           13.642384    8.105960   \n",
       "std             6.825779    7.023914   \n",
       "min             1.000000    1.000000   \n",
       "25%             8.000000    3.000000   \n",
       "50%            13.000000    4.000000   \n",
       "75%            20.000000   15.000000   \n",
       "max            25.000000   26.000000   \n",
       "\n",
       "       Summer or regular semester 1=Summer, 2=Regular  Class size   \\\n",
       "count                                      151.000000   151.000000   \n",
       "mean                                         1.847682    27.867550   \n",
       "std                                          0.360525    12.893758   \n",
       "min                                          1.000000     3.000000   \n",
       "25%                                          2.000000    19.000000   \n",
       "50%                                          2.000000    27.000000   \n",
       "75%                                          2.000000    37.000000   \n",
       "max                                          2.000000    66.000000   \n",
       "\n",
       "       score 1=Low, 2=Medium, 3=High  \n",
       "count                     151.000000  \n",
       "mean                        2.019868  \n",
       "std                         0.820327  \n",
       "min                         1.000000  \n",
       "25%                         1.000000  \n",
       "50%                         2.000000  \n",
       "75%                         3.000000  \n",
       "max                         3.000000  "
      ]
     },
     "execution_count": 5,
     "metadata": {},
     "output_type": "execute_result"
    }
   ],
   "source": [
    "dataset.describe()"
   ]
  },
  {
   "cell_type": "code",
   "execution_count": 6,
   "metadata": {},
   "outputs": [
    {
     "name": "stdout",
     "output_type": "stream",
     "text": [
      "3    52\n",
      "2    50\n",
      "1    49\n",
      "Name: score 1=Low, 2=Medium, 3=High, dtype: int64\n"
     ]
    }
   ],
   "source": [
    "print(dataset[\"score 1=Low, 2=Medium, 3=High\"].value_counts())\n"
   ]
  },
  {
   "cell_type": "code",
   "execution_count": 7,
   "metadata": {},
   "outputs": [
    {
     "name": "stdout",
     "output_type": "stream",
     "text": [
      "3     45\n",
      "2     16\n",
      "1     14\n",
      "15    10\n",
      "17    10\n",
      "11     9\n",
      "7      7\n",
      "5      5\n",
      "8      4\n",
      "9      3\n",
      "25     3\n",
      "13     3\n",
      "16     3\n",
      "21     3\n",
      "22     3\n",
      "18     2\n",
      "6      2\n",
      "14     1\n",
      "12     1\n",
      "10     1\n",
      "19     1\n",
      "20     1\n",
      "4      1\n",
      "23     1\n",
      "24     1\n",
      "26     1\n",
      "Name: Course, dtype: int64\n"
     ]
    }
   ],
   "source": [
    "print(dataset[\"Course\"].value_counts())"
   ]
  },
  {
   "cell_type": "code",
   "execution_count": 8,
   "metadata": {},
   "outputs": [
    {
     "name": "stdout",
     "output_type": "stream",
     "text": [
      "2    122\n",
      "1     29\n",
      "Name: TA is a native English speaker 1=English speaker, 2=non-English speaker, dtype: int64\n"
     ]
    }
   ],
   "source": [
    "print(dataset[\"TA is a native English speaker 1=English speaker, 2=non-English speaker\"].value_counts())\n"
   ]
  },
  {
   "cell_type": "code",
   "execution_count": 9,
   "metadata": {},
   "outputs": [
    {
     "name": "stdout",
     "output_type": "stream",
     "text": [
      "2    128\n",
      "1     23\n",
      "Name: Summer or regular semester 1=Summer, 2=Regular, dtype: int64\n"
     ]
    }
   ],
   "source": [
    "print(dataset[\"Summer or regular semester 1=Summer, 2=Regular\"].value_counts())\n"
   ]
  },
  {
   "cell_type": "code",
   "execution_count": 10,
   "metadata": {},
   "outputs": [
    {
     "name": "stdout",
     "output_type": "stream",
     "text": [
      "19    11\n",
      "20    11\n",
      "27     7\n",
      "42     7\n",
      "10     6\n",
      "17     6\n",
      "29     6\n",
      "31     6\n",
      "38     6\n",
      "37     6\n",
      "24     5\n",
      "13     4\n",
      "30     4\n",
      "21     4\n",
      "11     4\n",
      "25     3\n",
      "39     3\n",
      "23     3\n",
      "36     3\n",
      "22     3\n",
      "48     3\n",
      "51     3\n",
      "12     2\n",
      "18     2\n",
      "28     2\n",
      "33     2\n",
      "58     2\n",
      "14     2\n",
      "9      2\n",
      "43     2\n",
      "45     2\n",
      "46     2\n",
      "49     2\n",
      "55     2\n",
      "15     2\n",
      "7      1\n",
      "5      1\n",
      "66     1\n",
      "16     1\n",
      "26     1\n",
      "32     1\n",
      "34     1\n",
      "35     1\n",
      "44     1\n",
      "54     1\n",
      "3      1\n",
      "Name: Class size , dtype: int64\n"
     ]
    }
   ],
   "source": [
    "print(dataset[\"Class size \"].value_counts())"
   ]
  },
  {
   "cell_type": "code",
   "execution_count": 11,
   "metadata": {},
   "outputs": [
    {
     "data": {
      "text/plain": [
       "<AxesSubplot:>"
      ]
     },
     "execution_count": 11,
     "metadata": {},
     "output_type": "execute_result"
    },
    {
     "data": {
      "image/png": "[encoded data removed]",
      "text/plain": [
       "<Figure size 432x288 with 1 Axes>"
      ]
     },
     "metadata": {},
     "output_type": "display_data"
    }
   ],
   "source": [
    "dataset[\"Class size \"].hist()"
   ]
  },
  {
   "cell_type": "code",
   "execution_count": 12,
   "metadata": {},
   "outputs": [
    {
     "data": {
      "image/png": "[encoded data removed]",
      "text/plain": [
       "<Figure size 432x288 with 1 Axes>"
      ]
     },
     "metadata": {},
     "output_type": "display_data"
    }
   ],
   "source": [
    "sns.violinplot(x='Summer or regular semester 1=Summer, 2=Regular',y='score 1=Low, 2=Medium, 3=High',data=dataset)\n",
    "plt.show()"
   ]
  },
  {
   "cell_type": "code",
   "execution_count": 13,
   "metadata": {},
   "outputs": [
    {
     "data": {
      "image/png": "[encoded data removed]",
      "text/plain": [
       "<Figure size 432x288 with 1 Axes>"
      ]
     },
     "metadata": {},
     "output_type": "display_data"
    }
   ],
   "source": [
    "sns.violinplot(x='TA is a native English speaker 1=English speaker, 2=non-English speaker',y='score 1=Low, 2=Medium, 3=High',data=dataset)\n",
    "plt.show()"
   ]
  },
  {
   "cell_type": "code",
   "execution_count": 14,
   "metadata": {},
   "outputs": [
    {
     "data": {
      "image/png": "[encoded data removed]",
      "text/plain": [
       "<Figure size 432x288 with 1 Axes>"
      ]
     },
     "metadata": {},
     "output_type": "display_data"
    }
   ],
   "source": [
    "sns.violinplot(x='score 1=Low, 2=Medium, 3=High',y='Class size ',data=dataset)\n",
    "plt.show()"
   ]
  },
  {
   "cell_type": "code",
   "execution_count": 15,
   "metadata": {},
   "outputs": [
    {
     "data": {
      "image/png": "[encoded data removed]",
      "text/plain": [
       "<Figure size 432x288 with 1 Axes>"
      ]
     },
     "metadata": {},
     "output_type": "display_data"
    }
   ],
   "source": [
    "sns.boxplot(x='score 1=Low, 2=Medium, 3=High',y='Class size ',data=dataset)\n",
    "plt.show()"
   ]
  },
  {
   "cell_type": "code",
   "execution_count": 16,
   "metadata": {},
   "outputs": [
    {
     "data": {
      "image/png": "[encoded data removed]",
      "text/plain": [
       "<Figure size 432x288 with 1 Axes>"
      ]
     },
     "metadata": {},
     "output_type": "display_data"
    }
   ],
   "source": [
    "sns.violinplot(x='TA is a native English speaker 1=English speaker, 2=non-English speaker',y='Class size ',data=dataset)\n",
    "plt.show()"
   ]
  },
  {
   "cell_type": "code",
   "execution_count": 17,
   "metadata": {},
   "outputs": [
    {
     "data": {
      "image/png": "[encoded data removed]",
      "text/plain": [
       "<Figure size 432x288 with 1 Axes>"
      ]
     },
     "metadata": {},
     "output_type": "display_data"
    }
   ],
   "source": [
    "sns.boxplot(x='TA is a native English speaker 1=English speaker, 2=non-English speaker',y='Class size ',data=dataset)\n",
    "plt.show()"
   ]
  },
  {
   "cell_type": "code",
   "execution_count": 18,
   "metadata": {},
   "outputs": [
    {
     "data": {
      "image/png": "[encoded data removed]",
      "text/plain": [
       "<Figure size 432x288 with 1 Axes>"
      ]
     },
     "metadata": {},
     "output_type": "display_data"
    }
   ],
   "source": [
    "sns.violinplot(x='Summer or regular semester 1=Summer, 2=Regular',y='Class size ',data=dataset)\n",
    "plt.show()"
   ]
  },
  {
   "cell_type": "code",
   "execution_count": 19,
   "metadata": {},
   "outputs": [
    {
     "data": {
      "image/png": "[encoded data removed]",
      "text/plain": [
       "<Figure size 432x288 with 1 Axes>"
      ]
     },
     "metadata": {},
     "output_type": "display_data"
    }
   ],
   "source": [
    "sns.boxplot(x='Summer or regular semester 1=Summer, 2=Regular',y='Class size ',data=dataset)\n",
    "plt.show()"
   ]
  },
  {
   "cell_type": "code",
   "execution_count": 20,
   "metadata": {},
   "outputs": [
    {
     "data": {
      "image/png": "[encoded data removed]",
      "text/plain": [
       "<Figure size 432x288 with 1 Axes>"
      ]
     },
     "metadata": {},
     "output_type": "display_data"
    }
   ],
   "source": [
    "dataset.plot(kind='scatter',x='Course',y='Class size ', c= 'g')\n",
    "\n",
    "plt.show()"
   ]
  },
  {
   "cell_type": "code",
   "execution_count": 21,
   "metadata": {},
   "outputs": [],
   "source": [
    "nullData=dataset.append({'TA is a native English speaker 1=English speaker, 2=non-English speaker':1,\n",
    "                         'Course instructor':0,'Course':np.nan,'Summer or regular semester 1=Summer, 2=Regular':np.nan\n",
    "                         ,'Class size ':0,'score 1=Low, 2=Medium, 3=High':np.nan},ignore_index=True)\n"
   ]
  },
  {
   "cell_type": "code",
   "execution_count": 22,
   "metadata": {},
   "outputs": [
    {
     "name": "stdout",
     "output_type": "stream",
     "text": [
      "columns with missing values\n",
      "TA is a native English speaker 1=English speaker, 2=non-English speaker    0\n",
      "Course instructor                                                          0\n",
      "Course                                                                     1\n",
      "Summer or regular semester 1=Summer, 2=Regular                             1\n",
      "Class size                                                                 0\n",
      "score 1=Low, 2=Medium, 3=High                                              1\n",
      "dtype: int64\n",
      "\n",
      " columns with zero values\n",
      "TA is a native English speaker 1=English speaker, 2=non-English speaker    0\n",
      "Course instructor                                                          1\n",
      "Course                                                                     0\n",
      "Summer or regular semester 1=Summer, 2=Regular                             0\n",
      "Class size                                                                 1\n",
      "score 1=Low, 2=Medium, 3=High                                              0\n",
      "dtype: int64\n"
     ]
    }
   ],
   "source": [
    "print('columns with missing values')\n",
    "print(nullData.isnull().sum())\n",
    "print('\\n columns with zero values')\n",
    "print((nullData[['TA is a native English speaker 1=English speaker, 2=non-English speaker', 'Course instructor'\n",
    "                ,'Course', 'Summer or regular semester 1=Summer, 2=Regular'\n",
    "                ,'Class size ','score 1=Low, 2=Medium, 3=High']]==0).sum())"
   ]
  },
  {
   "cell_type": "code",
   "execution_count": 23,
   "metadata": {},
   "outputs": [
    {
     "name": "stdout",
     "output_type": "stream",
     "text": [
      "columns with missing values\n",
      "TA is a native English speaker 1=English speaker, 2=non-English speaker    0\n",
      "Course instructor                                                          1\n",
      "Course                                                                     1\n",
      "Summer or regular semester 1=Summer, 2=Regular                             1\n",
      "Class size                                                                 1\n",
      "score 1=Low, 2=Medium, 3=High                                              1\n",
      "dtype: int64\n"
     ]
    }
   ],
   "source": [
    "nullData[['TA is a native English speaker 1=English speaker, 2=non-English speaker', 'Course instructor'\n",
    "        ,'Course', 'Summer or regular semester 1=Summer, 2=Regular','Class size '\n",
    "          ,'score 1=Low, 2=Medium, 3=High']]=nullData[['TA is a native English speaker 1=English speaker, 2=non-English speaker'\n",
    "        , 'Course instructor','Course', 'Summer or regular semester 1=Summer, 2=Regular'\n",
    "        ,'Class size ','score 1=Low, 2=Medium, 3=High']].replace(0,np.nan)\n",
    "print(\"columns with missing values\")\n",
    "print(nullData.isnull().sum())"
   ]
  },
  {
   "cell_type": "code",
   "execution_count": 24,
   "metadata": {},
   "outputs": [
    {
     "name": "stdout",
     "output_type": "stream",
     "text": [
      "TA is a native English speaker 1=English speaker, 2=non-English speaker    0\n",
      "Course instructor                                                          0\n",
      "Course                                                                     0\n",
      "Summer or regular semester 1=Summer, 2=Regular                             0\n",
      "Class size                                                                 0\n",
      "score 1=Low, 2=Medium, 3=High                                              0\n",
      "dtype: int64\n"
     ]
    }
   ],
   "source": [
    "nullData.fillna(nullData.mean(), inplace=True)\n",
    "print(nullData.isnull().sum())"
   ]
  },
  {
   "cell_type": "code",
   "execution_count": 32,
   "metadata": {},
   "outputs": [],
   "source": [
    "x=dataset.iloc[:,[0,1,2,3]].values"
   ]
  },
  {
   "cell_type": "code",
   "execution_count": 33,
   "metadata": {
    "scrolled": true
   },
   "outputs": [
    {
     "name": "stdout",
     "output_type": "stream",
     "text": [
      "[2 0 2 0 1 2 0 0 2 0 4 0 4 1 1 1 1 2 0 4 2 2 1 1 3 1 0 3 2 2 0 2 0 0 0 3 1\n",
      " 0 3 2 0 2 0 1 2 0 0 2 0 4 0 4 1 1 1 1 2 0 4 2 2 1 1 3 1 0 3 2 2 0 2 0 0 0\n",
      " 3 1 0 3 2 0 4 0 0 4 2 1 2 2 2 4 3 0 4 3 1 1 3 3 0 0 1 2 2 1 2 2 2 2 2 0 0\n",
      " 1 3 0 0 0 0 2 1 0 2 3 0 0 3 0 0 2 2 3 3 3 4 4 4 0 0 2 1 0 2 3 4 0 2 2 0 0\n",
      " 2 2 1]\n"
     ]
    },
    {
     "data": {
      "text/plain": [
       "array([[ 1.83673469, 10.28571429,  2.85714286,  1.79591837],\n",
       "       [ 1.96296296,  4.85185185, 13.22222222,  1.88888889],\n",
       "       [ 1.66666667, 22.0952381 ,  3.30952381,  1.76190476],\n",
       "       [ 1.68421053, 15.68421053, 14.31578947,  2.        ],\n",
       "       [ 2.        , 14.21428571, 22.57142857,  2.        ]])"
      ]
     },
     "execution_count": 33,
     "metadata": {},
     "output_type": "execute_result"
    }
   ],
   "source": [
    "Kmeans5 = KMeans(n_clusters=5)\n",
    "y_Kmeans5 = Kmeans5.fit_predict(x)\n",
    "print(y_Kmeans5)\n",
    "Kmeans5.cluster_centers_"
   ]
  },
  {
   "cell_type": "code",
   "execution_count": 34,
   "metadata": {},
   "outputs": [
    {
     "data": {
      "image/png": "[encoded data removed]",
      "text/plain": [
       "<Figure size 432x288 with 1 Axes>"
      ]
     },
     "metadata": {},
     "output_type": "display_data"
    }
   ],
   "source": [
    "Error=[]\n",
    "for i in range(1,11):\n",
    "    kmeans=KMeans(n_clusters=i).fit(x)\n",
    "    kmeans.fit(x)\n",
    "    Error.append(kmeans.inertia_)\n",
    "plt.plot(range(1,11),Error)\n",
    "plt.title('Elbow method')\n",
    "plt.xlabel('No of clusters')\n",
    "plt.ylabel('Error')\n",
    "plt.show()\n"
   ]
  },
  {
   "cell_type": "code",
   "execution_count": 41,
   "metadata": {},
   "outputs": [],
   "source": [
    "le = LabelEncoder()\n",
    "le.fit(dataset['score 1=Low, 2=Medium, 3=High'].values)\n",
    "y = le.transform(dataset['score 1=Low, 2=Medium, 3=High'].values)\n",
    "x = dataset.drop(['score 1=Low, 2=Medium, 3=High'],axis=1).values\n",
    "\n",
    "x_train, x_test, y_train, y_test = train_test_split(x , y , test_size=0.34,\n",
    "                                                   stratify= y,\n",
    "                                                   random_state= seed)"
   ]
  },
  {
   "cell_type": "code",
   "execution_count": 42,
   "metadata": {},
   "outputs": [
    {
     "name": "stdout",
     "output_type": "stream",
     "text": [
      "DecsionTreeClassifire accuracy score: 38.46153846153847\n"
     ]
    }
   ],
   "source": [
    "tree = DecisionTreeClassifier(criterion = 'gini',\n",
    "                             min_samples_leaf=5,\n",
    "                             min_samples_split=5,\n",
    "                             max_depth=None,\n",
    "                             random_state=seed)\n",
    "tree.fit(x_train,y_train)\n",
    "y_pred = tree.predict(x_test)\n",
    "accuracy = accuracy_score(y_test,y_pred)\n",
    "print('DecsionTreeClassifire accuracy score: {}'.format(accuracy*100))"
   ]
  },
  {
   "cell_type": "code",
   "execution_count": 43,
   "metadata": {},
   "outputs": [
    {
     "name": "stdout",
     "output_type": "stream",
     "text": [
      "Confusion matrox is \n",
      "[[5 8 4]\n",
      " [7 6 4]\n",
      " [3 6 9]]\n"
     ]
    },
    {
     "data": {
      "image/png": "[encoded data removed]",
      "text/plain": [
       "<Figure size 288x288 with 1 Axes>"
      ]
     },
     "metadata": {},
     "output_type": "display_data"
    }
   ],
   "source": [
    "from sklearn.metrics import confusion_matrix\n",
    "import matplotlib.pyplot as plt\n",
    "print('Confusion matrox is ')\n",
    "print(confusion_matrix(y_test,y_pred))\n",
    "cm=confusion_matrix(y_test,y_pred)\n",
    "plt.matshow(cm)\n",
    "plt.show()"
   ]
  },
  {
   "cell_type": "code",
   "execution_count": 47,
   "metadata": {},
   "outputs": [
    {
     "data": {
      "image/svg+xml": [
       "<?xml version=\"1.0\" encoding=\"UTF-8\" standalone=\"no\"?>\r\n",
       "<!DOCTYPE svg PUBLIC \"-//W3C//DTD SVG 1.1//EN\"\r\n",
       " \"http://www.w3.org/Graphics/SVG/1.1/DTD/svg11.dtd\">\r\n",
       "<!-- Generated by graphviz version 2.47.0 (20210316.0004)\r\n",
       " -->\r\n",
       "<!-- Title: Tree Pages: 1 -->\r\n",
       "<svg width=\"2834pt\" height=\"790pt\"\r\n",
       " viewBox=\"0.00 0.00 2834.00 790.00\" xmlns=\"http://www.w3.org/2000/svg\" xmlns:xlink=\"http://www.w3.org/1999/xlink\">\r\n",
       "<g id=\"graph0\" class=\"graph\" transform=\"scale(1 1) rotate(0) translate(4 786)\">\r\n",
       "<title>Tree</title>\r\n",
       "<polygon fill=\"white\" stroke=\"transparent\" points=\"-4,4 -4,-786 2830,-786 2830,4 -4,4\"/>\r\n",
       "<!-- 0 -->\r\n",
       "<g id=\"node1\" class=\"node\">\r\n",
       "<title>0</title>\r\n",
       "<path fill=\"#fdfcff\" stroke=\"black\" d=\"M1056.5,-782C1056.5,-782 690.5,-782 690.5,-782 684.5,-782 678.5,-776 678.5,-770 678.5,-770 678.5,-711 678.5,-711 678.5,-705 684.5,-699 690.5,-699 690.5,-699 1056.5,-699 1056.5,-699 1062.5,-699 1068.5,-705 1068.5,-711 1068.5,-711 1068.5,-770 1068.5,-770 1068.5,-776 1062.5,-782 1056.5,-782\"/>\r\n",
       "<text text-anchor=\"middle\" x=\"873.5\" y=\"-766.8\" font-family=\"Helvetica,sans-Serif\" font-size=\"14.00\">Summer or regular semester 1=Summer, 2=Regular &lt;= 1.5</text>\r\n",
       "<text text-anchor=\"middle\" x=\"873.5\" y=\"-751.8\" font-family=\"Helvetica,sans-Serif\" font-size=\"14.00\">gini = 0.666</text>\r\n",
       "<text text-anchor=\"middle\" x=\"873.5\" y=\"-736.8\" font-family=\"Helvetica,sans-Serif\" font-size=\"14.00\">samples = 99</text>\r\n",
       "<text text-anchor=\"middle\" x=\"873.5\" y=\"-721.8\" font-family=\"Helvetica,sans-Serif\" font-size=\"14.00\">value = [32, 33, 34]</text>\r\n",
       "<text text-anchor=\"middle\" x=\"873.5\" y=\"-706.8\" font-family=\"Helvetica,sans-Serif\" font-size=\"14.00\">class = Course instructor</text>\r\n",
       "</g>\r\n",
       "<!-- 1 -->\r\n",
       "<g id=\"node2\" class=\"node\">\r\n",
       "<title>1</title>\r\n",
       "<path fill=\"#ae80ee\" stroke=\"black\" d=\"M679,-663C679,-663 526,-663 526,-663 520,-663 514,-657 514,-651 514,-651 514,-592 514,-592 514,-586 520,-580 526,-580 526,-580 679,-580 679,-580 685,-580 691,-586 691,-592 691,-592 691,-651 691,-651 691,-657 685,-663 679,-663\"/>\r\n",
       "<text text-anchor=\"middle\" x=\"602.5\" y=\"-647.8\" font-family=\"Helvetica,sans-Serif\" font-size=\"14.00\">Course instructor &lt;= 14.0</text>\r\n",
       "<text text-anchor=\"middle\" x=\"602.5\" y=\"-632.8\" font-family=\"Helvetica,sans-Serif\" font-size=\"14.00\">gini = 0.426</text>\r\n",
       "<text text-anchor=\"middle\" x=\"602.5\" y=\"-617.8\" font-family=\"Helvetica,sans-Serif\" font-size=\"14.00\">samples = 18</text>\r\n",
       "<text text-anchor=\"middle\" x=\"602.5\" y=\"-602.8\" font-family=\"Helvetica,sans-Serif\" font-size=\"14.00\">value = [1, 4, 13]</text>\r\n",
       "<text text-anchor=\"middle\" x=\"602.5\" y=\"-587.8\" font-family=\"Helvetica,sans-Serif\" font-size=\"14.00\">class = Course instructor</text>\r\n",
       "</g>\r\n",
       "<!-- 0&#45;&gt;1 -->\r\n",
       "<g id=\"edge1\" class=\"edge\">\r\n",
       "<title>0&#45;&gt;1</title>\r\n",
       "<path fill=\"none\" stroke=\"black\" d=\"M779.48,-698.91C754.02,-687.92 726.39,-675.99 700.71,-664.9\"/>\r\n",
       "<polygon fill=\"black\" stroke=\"black\" points=\"701.91,-661.61 691.34,-660.86 699.14,-668.03 701.91,-661.61\"/>\r\n",
       "<text text-anchor=\"middle\" x=\"700.57\" y=\"-680.39\" font-family=\"Helvetica,sans-Serif\" font-size=\"14.00\">True</text>\r\n",
       "</g>\r\n",
       "<!-- 6 -->\r\n",
       "<g id=\"node7\" class=\"node\">\r\n",
       "<title>6</title>\r\n",
       "<path fill=\"#fefaf7\" stroke=\"black\" d=\"M1331,-663C1331,-663 960,-663 960,-663 954,-663 948,-657 948,-651 948,-651 948,-592 948,-592 948,-586 954,-580 960,-580 960,-580 1331,-580 1331,-580 1337,-580 1343,-586 1343,-592 1343,-592 1343,-651 1343,-651 1343,-657 1337,-663 1331,-663\"/>\r\n",
       "<text text-anchor=\"middle\" x=\"1145.5\" y=\"-647.8\" font-family=\"Helvetica,sans-Serif\" font-size=\"14.00\">Course &lt;= 8.5</text>\r\n",
       "<text text-anchor=\"middle\" x=\"1145.5\" y=\"-632.8\" font-family=\"Helvetica,sans-Serif\" font-size=\"14.00\">gini = 0.658</text>\r\n",
       "<text text-anchor=\"middle\" x=\"1145.5\" y=\"-617.8\" font-family=\"Helvetica,sans-Serif\" font-size=\"14.00\">samples = 81</text>\r\n",
       "<text text-anchor=\"middle\" x=\"1145.5\" y=\"-602.8\" font-family=\"Helvetica,sans-Serif\" font-size=\"14.00\">value = [31, 29, 21]</text>\r\n",
       "<text text-anchor=\"middle\" x=\"1145.5\" y=\"-587.8\" font-family=\"Helvetica,sans-Serif\" font-size=\"14.00\">class = Summer or regular semester 1=Summer, 2=Regular</text>\r\n",
       "</g>\r\n",
       "<!-- 0&#45;&gt;6 -->\r\n",
       "<g id=\"edge6\" class=\"edge\">\r\n",
       "<title>0&#45;&gt;6</title>\r\n",
       "<path fill=\"none\" stroke=\"black\" d=\"M967.87,-698.91C991.81,-688.61 1017.67,-677.49 1042.04,-667\"/>\r\n",
       "<polygon fill=\"black\" stroke=\"black\" points=\"1043.49,-670.19 1051.3,-663.02 1040.73,-663.76 1043.49,-670.19\"/>\r\n",
       "<text text-anchor=\"middle\" x=\"1042.04\" y=\"-682.55\" font-family=\"Helvetica,sans-Serif\" font-size=\"14.00\">False</text>\r\n",
       "</g>\r\n",
       "<!-- 2 -->\r\n",
       "<g id=\"node3\" class=\"node\">\r\n",
       "<title>2</title>\r\n",
       "<path fill=\"#cef8e0\" stroke=\"black\" d=\"M310,-536.5C310,-536.5 59,-536.5 59,-536.5 53,-536.5 47,-530.5 47,-524.5 47,-524.5 47,-480.5 47,-480.5 47,-474.5 53,-468.5 59,-468.5 59,-468.5 310,-468.5 310,-468.5 316,-468.5 322,-474.5 322,-480.5 322,-480.5 322,-524.5 322,-524.5 322,-530.5 316,-536.5 310,-536.5\"/>\r\n",
       "<text text-anchor=\"middle\" x=\"184.5\" y=\"-521.3\" font-family=\"Helvetica,sans-Serif\" font-size=\"14.00\">gini = 0.611</text>\r\n",
       "<text text-anchor=\"middle\" x=\"184.5\" y=\"-506.3\" font-family=\"Helvetica,sans-Serif\" font-size=\"14.00\">samples = 6</text>\r\n",
       "<text text-anchor=\"middle\" x=\"184.5\" y=\"-491.3\" font-family=\"Helvetica,sans-Serif\" font-size=\"14.00\">value = [1, 3, 2]</text>\r\n",
       "<text text-anchor=\"middle\" x=\"184.5\" y=\"-476.3\" font-family=\"Helvetica,sans-Serif\" font-size=\"14.00\">class = score 1=Low, 2=Medium, 3=High</text>\r\n",
       "</g>\r\n",
       "<!-- 1&#45;&gt;2 -->\r\n",
       "<g id=\"edge2\" class=\"edge\">\r\n",
       "<title>1&#45;&gt;2</title>\r\n",
       "<path fill=\"none\" stroke=\"black\" d=\"M513.85,-595.69C455.38,-579.32 377.85,-557.62 312.7,-539.38\"/>\r\n",
       "<polygon fill=\"black\" stroke=\"black\" points=\"313.34,-535.93 302.77,-536.6 311.46,-542.67 313.34,-535.93\"/>\r\n",
       "</g>\r\n",
       "<!-- 3 -->\r\n",
       "<g id=\"node4\" class=\"node\">\r\n",
       "<title>3</title>\r\n",
       "<path fill=\"#8c4be7\" stroke=\"black\" d=\"M853,-544C853,-544 352,-544 352,-544 346,-544 340,-538 340,-532 340,-532 340,-473 340,-473 340,-467 346,-461 352,-461 352,-461 853,-461 853,-461 859,-461 865,-467 865,-473 865,-473 865,-532 865,-532 865,-538 859,-544 853,-544\"/>\r\n",
       "<text text-anchor=\"middle\" x=\"602.5\" y=\"-528.8\" font-family=\"Helvetica,sans-Serif\" font-size=\"14.00\">TA is a native English speaker 1=English speaker, 2=non&#45;English speaker &lt;= 1.5</text>\r\n",
       "<text text-anchor=\"middle\" x=\"602.5\" y=\"-513.8\" font-family=\"Helvetica,sans-Serif\" font-size=\"14.00\">gini = 0.153</text>\r\n",
       "<text text-anchor=\"middle\" x=\"602.5\" y=\"-498.8\" font-family=\"Helvetica,sans-Serif\" font-size=\"14.00\">samples = 12</text>\r\n",
       "<text text-anchor=\"middle\" x=\"602.5\" y=\"-483.8\" font-family=\"Helvetica,sans-Serif\" font-size=\"14.00\">value = [0, 1, 11]</text>\r\n",
       "<text text-anchor=\"middle\" x=\"602.5\" y=\"-468.8\" font-family=\"Helvetica,sans-Serif\" font-size=\"14.00\">class = Course instructor</text>\r\n",
       "</g>\r\n",
       "<!-- 1&#45;&gt;3 -->\r\n",
       "<g id=\"edge3\" class=\"edge\">\r\n",
       "<title>1&#45;&gt;3</title>\r\n",
       "<path fill=\"none\" stroke=\"black\" d=\"M602.5,-579.91C602.5,-571.65 602.5,-562.86 602.5,-554.3\"/>\r\n",
       "<polygon fill=\"black\" stroke=\"black\" points=\"606,-554.02 602.5,-544.02 599,-554.02 606,-554.02\"/>\r\n",
       "</g>\r\n",
       "<!-- 4 -->\r\n",
       "<g id=\"node5\" class=\"node\">\r\n",
       "<title>4</title>\r\n",
       "<path fill=\"#a06aec\" stroke=\"black\" d=\"M511,-417.5C511,-417.5 362,-417.5 362,-417.5 356,-417.5 350,-411.5 350,-405.5 350,-405.5 350,-361.5 350,-361.5 350,-355.5 356,-349.5 362,-349.5 362,-349.5 511,-349.5 511,-349.5 517,-349.5 523,-355.5 523,-361.5 523,-361.5 523,-405.5 523,-405.5 523,-411.5 517,-417.5 511,-417.5\"/>\r\n",
       "<text text-anchor=\"middle\" x=\"436.5\" y=\"-402.3\" font-family=\"Helvetica,sans-Serif\" font-size=\"14.00\">gini = 0.32</text>\r\n",
       "<text text-anchor=\"middle\" x=\"436.5\" y=\"-387.3\" font-family=\"Helvetica,sans-Serif\" font-size=\"14.00\">samples = 5</text>\r\n",
       "<text text-anchor=\"middle\" x=\"436.5\" y=\"-372.3\" font-family=\"Helvetica,sans-Serif\" font-size=\"14.00\">value = [0, 1, 4]</text>\r\n",
       "<text text-anchor=\"middle\" x=\"436.5\" y=\"-357.3\" font-family=\"Helvetica,sans-Serif\" font-size=\"14.00\">class = Course instructor</text>\r\n",
       "</g>\r\n",
       "<!-- 3&#45;&gt;4 -->\r\n",
       "<g id=\"edge4\" class=\"edge\">\r\n",
       "<title>3&#45;&gt;4</title>\r\n",
       "<path fill=\"none\" stroke=\"black\" d=\"M544.91,-460.91C527.69,-448.77 508.85,-435.49 491.78,-423.46\"/>\r\n",
       "<polygon fill=\"black\" stroke=\"black\" points=\"493.75,-420.57 483.56,-417.67 489.71,-426.29 493.75,-420.57\"/>\r\n",
       "</g>\r\n",
       "<!-- 5 -->\r\n",
       "<g id=\"node6\" class=\"node\">\r\n",
       "<title>5</title>\r\n",
       "<path fill=\"#8139e5\" stroke=\"black\" d=\"M702,-417.5C702,-417.5 553,-417.5 553,-417.5 547,-417.5 541,-411.5 541,-405.5 541,-405.5 541,-361.5 541,-361.5 541,-355.5 547,-349.5 553,-349.5 553,-349.5 702,-349.5 702,-349.5 708,-349.5 714,-355.5 714,-361.5 714,-361.5 714,-405.5 714,-405.5 714,-411.5 708,-417.5 702,-417.5\"/>\r\n",
       "<text text-anchor=\"middle\" x=\"627.5\" y=\"-402.3\" font-family=\"Helvetica,sans-Serif\" font-size=\"14.00\">gini = 0.0</text>\r\n",
       "<text text-anchor=\"middle\" x=\"627.5\" y=\"-387.3\" font-family=\"Helvetica,sans-Serif\" font-size=\"14.00\">samples = 7</text>\r\n",
       "<text text-anchor=\"middle\" x=\"627.5\" y=\"-372.3\" font-family=\"Helvetica,sans-Serif\" font-size=\"14.00\">value = [0, 0, 7]</text>\r\n",
       "<text text-anchor=\"middle\" x=\"627.5\" y=\"-357.3\" font-family=\"Helvetica,sans-Serif\" font-size=\"14.00\">class = Course instructor</text>\r\n",
       "</g>\r\n",
       "<!-- 3&#45;&gt;5 -->\r\n",
       "<g id=\"edge5\" class=\"edge\">\r\n",
       "<title>3&#45;&gt;5</title>\r\n",
       "<path fill=\"none\" stroke=\"black\" d=\"M611.17,-460.91C613.46,-450.2 615.94,-438.62 618.25,-427.78\"/>\r\n",
       "<polygon fill=\"black\" stroke=\"black\" points=\"621.75,-428.18 620.41,-417.67 614.9,-426.71 621.75,-428.18\"/>\r\n",
       "</g>\r\n",
       "<!-- 7 -->\r\n",
       "<g id=\"node8\" class=\"node\">\r\n",
       "<title>7</title>\r\n",
       "<path fill=\"#f6d2b8\" stroke=\"black\" d=\"M1396,-544C1396,-544 895,-544 895,-544 889,-544 883,-538 883,-532 883,-532 883,-473 883,-473 883,-467 889,-461 895,-461 895,-461 1396,-461 1396,-461 1402,-461 1408,-467 1408,-473 1408,-473 1408,-532 1408,-532 1408,-538 1402,-544 1396,-544\"/>\r\n",
       "<text text-anchor=\"middle\" x=\"1145.5\" y=\"-528.8\" font-family=\"Helvetica,sans-Serif\" font-size=\"14.00\">TA is a native English speaker 1=English speaker, 2=non&#45;English speaker &lt;= 1.5</text>\r\n",
       "<text text-anchor=\"middle\" x=\"1145.5\" y=\"-513.8\" font-family=\"Helvetica,sans-Serif\" font-size=\"14.00\">gini = 0.614</text>\r\n",
       "<text text-anchor=\"middle\" x=\"1145.5\" y=\"-498.8\" font-family=\"Helvetica,sans-Serif\" font-size=\"14.00\">samples = 48</text>\r\n",
       "<text text-anchor=\"middle\" x=\"1145.5\" y=\"-483.8\" font-family=\"Helvetica,sans-Serif\" font-size=\"14.00\">value = [25, 11, 12]</text>\r\n",
       "<text text-anchor=\"middle\" x=\"1145.5\" y=\"-468.8\" font-family=\"Helvetica,sans-Serif\" font-size=\"14.00\">class = Summer or regular semester 1=Summer, 2=Regular</text>\r\n",
       "</g>\r\n",
       "<!-- 6&#45;&gt;7 -->\r\n",
       "<g id=\"edge7\" class=\"edge\">\r\n",
       "<title>6&#45;&gt;7</title>\r\n",
       "<path fill=\"none\" stroke=\"black\" d=\"M1145.5,-579.91C1145.5,-571.65 1145.5,-562.86 1145.5,-554.3\"/>\r\n",
       "<polygon fill=\"black\" stroke=\"black\" points=\"1149,-554.02 1145.5,-544.02 1142,-554.02 1149,-554.02\"/>\r\n",
       "</g>\r\n",
       "<!-- 20 -->\r\n",
       "<g id=\"node21\" class=\"node\">\r\n",
       "<title>20</title>\r\n",
       "<path fill=\"#b5f5d0\" stroke=\"black\" d=\"M1947,-544C1947,-544 1696,-544 1696,-544 1690,-544 1684,-538 1684,-532 1684,-532 1684,-473 1684,-473 1684,-467 1690,-461 1696,-461 1696,-461 1947,-461 1947,-461 1953,-461 1959,-467 1959,-473 1959,-473 1959,-532 1959,-532 1959,-538 1953,-544 1947,-544\"/>\r\n",
       "<text text-anchor=\"middle\" x=\"1821.5\" y=\"-528.8\" font-family=\"Helvetica,sans-Serif\" font-size=\"14.00\">Course &lt;= 16.5</text>\r\n",
       "<text text-anchor=\"middle\" x=\"1821.5\" y=\"-513.8\" font-family=\"Helvetica,sans-Serif\" font-size=\"14.00\">gini = 0.595</text>\r\n",
       "<text text-anchor=\"middle\" x=\"1821.5\" y=\"-498.8\" font-family=\"Helvetica,sans-Serif\" font-size=\"14.00\">samples = 33</text>\r\n",
       "<text text-anchor=\"middle\" x=\"1821.5\" y=\"-483.8\" font-family=\"Helvetica,sans-Serif\" font-size=\"14.00\">value = [6, 18, 9]</text>\r\n",
       "<text text-anchor=\"middle\" x=\"1821.5\" y=\"-468.8\" font-family=\"Helvetica,sans-Serif\" font-size=\"14.00\">class = score 1=Low, 2=Medium, 3=High</text>\r\n",
       "</g>\r\n",
       "<!-- 6&#45;&gt;20 -->\r\n",
       "<g id=\"edge20\" class=\"edge\">\r\n",
       "<title>6&#45;&gt;20</title>\r\n",
       "<path fill=\"none\" stroke=\"black\" d=\"M1343.3,-586.27C1449.06,-567.96 1577.08,-545.8 1674.04,-529.02\"/>\r\n",
       "<polygon fill=\"black\" stroke=\"black\" points=\"1674.66,-532.47 1683.91,-527.31 1673.46,-525.57 1674.66,-532.47\"/>\r\n",
       "</g>\r\n",
       "<!-- 8 -->\r\n",
       "<g id=\"node9\" class=\"node\">\r\n",
       "<title>8</title>\r\n",
       "<path fill=\"#b78ef0\" stroke=\"black\" d=\"M918,-417.5C918,-417.5 769,-417.5 769,-417.5 763,-417.5 757,-411.5 757,-405.5 757,-405.5 757,-361.5 757,-361.5 757,-355.5 763,-349.5 769,-349.5 769,-349.5 918,-349.5 918,-349.5 924,-349.5 930,-355.5 930,-361.5 930,-361.5 930,-405.5 930,-405.5 930,-411.5 924,-417.5 918,-417.5\"/>\r\n",
       "<text text-anchor=\"middle\" x=\"843.5\" y=\"-402.3\" font-family=\"Helvetica,sans-Serif\" font-size=\"14.00\">gini = 0.494</text>\r\n",
       "<text text-anchor=\"middle\" x=\"843.5\" y=\"-387.3\" font-family=\"Helvetica,sans-Serif\" font-size=\"14.00\">samples = 9</text>\r\n",
       "<text text-anchor=\"middle\" x=\"843.5\" y=\"-372.3\" font-family=\"Helvetica,sans-Serif\" font-size=\"14.00\">value = [2, 1, 6]</text>\r\n",
       "<text text-anchor=\"middle\" x=\"843.5\" y=\"-357.3\" font-family=\"Helvetica,sans-Serif\" font-size=\"14.00\">class = Course instructor</text>\r\n",
       "</g>\r\n",
       "<!-- 7&#45;&gt;8 -->\r\n",
       "<g id=\"edge8\" class=\"edge\">\r\n",
       "<title>7&#45;&gt;8</title>\r\n",
       "<path fill=\"none\" stroke=\"black\" d=\"M1032.58,-460.91C1001.94,-449.58 968.85,-437.07 938.5,-425 935.5,-423.81 932.45,-422.58 929.38,-421.34\"/>\r\n",
       "<polygon fill=\"black\" stroke=\"black\" points=\"930.68,-418.09 920.1,-417.54 928.03,-424.57 930.68,-418.09\"/>\r\n",
       "</g>\r\n",
       "<!-- 9 -->\r\n",
       "<g id=\"node10\" class=\"node\">\r\n",
       "<title>9</title>\r\n",
       "<path fill=\"#f3c7a6\" stroke=\"black\" d=\"M1331,-425C1331,-425 960,-425 960,-425 954,-425 948,-419 948,-413 948,-413 948,-354 948,-354 948,-348 954,-342 960,-342 960,-342 1331,-342 1331,-342 1337,-342 1343,-348 1343,-354 1343,-354 1343,-413 1343,-413 1343,-419 1337,-425 1331,-425\"/>\r\n",
       "<text text-anchor=\"middle\" x=\"1145.5\" y=\"-409.8\" font-family=\"Helvetica,sans-Serif\" font-size=\"14.00\">Course instructor &lt;= 14.0</text>\r\n",
       "<text text-anchor=\"middle\" x=\"1145.5\" y=\"-394.8\" font-family=\"Helvetica,sans-Serif\" font-size=\"14.00\">gini = 0.563</text>\r\n",
       "<text text-anchor=\"middle\" x=\"1145.5\" y=\"-379.8\" font-family=\"Helvetica,sans-Serif\" font-size=\"14.00\">samples = 39</text>\r\n",
       "<text text-anchor=\"middle\" x=\"1145.5\" y=\"-364.8\" font-family=\"Helvetica,sans-Serif\" font-size=\"14.00\">value = [23, 10, 6]</text>\r\n",
       "<text text-anchor=\"middle\" x=\"1145.5\" y=\"-349.8\" font-family=\"Helvetica,sans-Serif\" font-size=\"14.00\">class = Summer or regular semester 1=Summer, 2=Regular</text>\r\n",
       "</g>\r\n",
       "<!-- 7&#45;&gt;9 -->\r\n",
       "<g id=\"edge9\" class=\"edge\">\r\n",
       "<title>7&#45;&gt;9</title>\r\n",
       "<path fill=\"none\" stroke=\"black\" d=\"M1145.5,-460.91C1145.5,-452.65 1145.5,-443.86 1145.5,-435.3\"/>\r\n",
       "<polygon fill=\"black\" stroke=\"black\" points=\"1149,-435.02 1145.5,-425.02 1142,-435.02 1149,-435.02\"/>\r\n",
       "</g>\r\n",
       "<!-- 10 -->\r\n",
       "<g id=\"node11\" class=\"node\">\r\n",
       "<title>10</title>\r\n",
       "<path fill=\"#f6d5bd\" stroke=\"black\" d=\"M771,-306C771,-306 400,-306 400,-306 394,-306 388,-300 388,-294 388,-294 388,-235 388,-235 388,-229 394,-223 400,-223 400,-223 771,-223 771,-223 777,-223 783,-229 783,-235 783,-235 783,-294 783,-294 783,-300 777,-306 771,-306\"/>\r\n",
       "<text text-anchor=\"middle\" x=\"585.5\" y=\"-290.8\" font-family=\"Helvetica,sans-Serif\" font-size=\"14.00\">Class size &#160;&lt;= 30.5</text>\r\n",
       "<text text-anchor=\"middle\" x=\"585.5\" y=\"-275.8\" font-family=\"Helvetica,sans-Serif\" font-size=\"14.00\">gini = 0.625</text>\r\n",
       "<text text-anchor=\"middle\" x=\"585.5\" y=\"-260.8\" font-family=\"Helvetica,sans-Serif\" font-size=\"14.00\">samples = 20</text>\r\n",
       "<text text-anchor=\"middle\" x=\"585.5\" y=\"-245.8\" font-family=\"Helvetica,sans-Serif\" font-size=\"14.00\">value = [10, 5, 5]</text>\r\n",
       "<text text-anchor=\"middle\" x=\"585.5\" y=\"-230.8\" font-family=\"Helvetica,sans-Serif\" font-size=\"14.00\">class = Summer or regular semester 1=Summer, 2=Regular</text>\r\n",
       "</g>\r\n",
       "<!-- 9&#45;&gt;10 -->\r\n",
       "<g id=\"edge10\" class=\"edge\">\r\n",
       "<title>9&#45;&gt;10</title>\r\n",
       "<path fill=\"none\" stroke=\"black\" d=\"M951.6,-341.99C899.24,-331.05 842.43,-319.18 789.53,-308.13\"/>\r\n",
       "<polygon fill=\"black\" stroke=\"black\" points=\"790.21,-304.69 779.7,-306.07 788.78,-311.55 790.21,-304.69\"/>\r\n",
       "</g>\r\n",
       "<!-- 15 -->\r\n",
       "<g id=\"node16\" class=\"node\">\r\n",
       "<title>15</title>\r\n",
       "<path fill=\"#f0b78e\" stroke=\"black\" d=\"M1331,-306C1331,-306 960,-306 960,-306 954,-306 948,-300 948,-294 948,-294 948,-235 948,-235 948,-229 954,-223 960,-223 960,-223 1331,-223 1331,-223 1337,-223 1343,-229 1343,-235 1343,-235 1343,-294 1343,-294 1343,-300 1337,-306 1331,-306\"/>\r\n",
       "<text text-anchor=\"middle\" x=\"1145.5\" y=\"-290.8\" font-family=\"Helvetica,sans-Serif\" font-size=\"14.00\">Class size &#160;&lt;= 39.0</text>\r\n",
       "<text text-anchor=\"middle\" x=\"1145.5\" y=\"-275.8\" font-family=\"Helvetica,sans-Serif\" font-size=\"14.00\">gini = 0.46</text>\r\n",
       "<text text-anchor=\"middle\" x=\"1145.5\" y=\"-260.8\" font-family=\"Helvetica,sans-Serif\" font-size=\"14.00\">samples = 19</text>\r\n",
       "<text text-anchor=\"middle\" x=\"1145.5\" y=\"-245.8\" font-family=\"Helvetica,sans-Serif\" font-size=\"14.00\">value = [13, 5, 1]</text>\r\n",
       "<text text-anchor=\"middle\" x=\"1145.5\" y=\"-230.8\" font-family=\"Helvetica,sans-Serif\" font-size=\"14.00\">class = Summer or regular semester 1=Summer, 2=Regular</text>\r\n",
       "</g>\r\n",
       "<!-- 9&#45;&gt;15 -->\r\n",
       "<g id=\"edge15\" class=\"edge\">\r\n",
       "<title>9&#45;&gt;15</title>\r\n",
       "<path fill=\"none\" stroke=\"black\" d=\"M1145.5,-341.91C1145.5,-333.65 1145.5,-324.86 1145.5,-316.3\"/>\r\n",
       "<polygon fill=\"black\" stroke=\"black\" points=\"1149,-316.02 1145.5,-306.02 1142,-316.02 1149,-316.02\"/>\r\n",
       "</g>\r\n",
       "<!-- 11 -->\r\n",
       "<g id=\"node12\" class=\"node\">\r\n",
       "<title>11</title>\r\n",
       "<path fill=\"#ffffff\" stroke=\"black\" d=\"M358,-187C358,-187 107,-187 107,-187 101,-187 95,-181 95,-175 95,-175 95,-116 95,-116 95,-110 101,-104 107,-104 107,-104 358,-104 358,-104 364,-104 370,-110 370,-116 370,-116 370,-175 370,-175 370,-181 364,-187 358,-187\"/>\r\n",
       "<text text-anchor=\"middle\" x=\"232.5\" y=\"-171.8\" font-family=\"Helvetica,sans-Serif\" font-size=\"14.00\">Course instructor &lt;= 8.5</text>\r\n",
       "<text text-anchor=\"middle\" x=\"232.5\" y=\"-156.8\" font-family=\"Helvetica,sans-Serif\" font-size=\"14.00\">gini = 0.651</text>\r\n",
       "<text text-anchor=\"middle\" x=\"232.5\" y=\"-141.8\" font-family=\"Helvetica,sans-Serif\" font-size=\"14.00\">samples = 13</text>\r\n",
       "<text text-anchor=\"middle\" x=\"232.5\" y=\"-126.8\" font-family=\"Helvetica,sans-Serif\" font-size=\"14.00\">value = [3, 5, 5]</text>\r\n",
       "<text text-anchor=\"middle\" x=\"232.5\" y=\"-111.8\" font-family=\"Helvetica,sans-Serif\" font-size=\"14.00\">class = score 1=Low, 2=Medium, 3=High</text>\r\n",
       "</g>\r\n",
       "<!-- 10&#45;&gt;11 -->\r\n",
       "<g id=\"edge11\" class=\"edge\">\r\n",
       "<title>10&#45;&gt;11</title>\r\n",
       "<path fill=\"none\" stroke=\"black\" d=\"M463.03,-222.91C431.13,-212.33 396.63,-200.9 364.27,-190.17\"/>\r\n",
       "<polygon fill=\"black\" stroke=\"black\" points=\"365.35,-186.84 354.76,-187.02 363.15,-193.49 365.35,-186.84\"/>\r\n",
       "</g>\r\n",
       "<!-- 14 -->\r\n",
       "<g id=\"node15\" class=\"node\">\r\n",
       "<title>14</title>\r\n",
       "<path fill=\"#e58139\" stroke=\"black\" d=\"M771,-179.5C771,-179.5 400,-179.5 400,-179.5 394,-179.5 388,-173.5 388,-167.5 388,-167.5 388,-123.5 388,-123.5 388,-117.5 394,-111.5 400,-111.5 400,-111.5 771,-111.5 771,-111.5 777,-111.5 783,-117.5 783,-123.5 783,-123.5 783,-167.5 783,-167.5 783,-173.5 777,-179.5 771,-179.5\"/>\r\n",
       "<text text-anchor=\"middle\" x=\"585.5\" y=\"-164.3\" font-family=\"Helvetica,sans-Serif\" font-size=\"14.00\">gini = 0.0</text>\r\n",
       "<text text-anchor=\"middle\" x=\"585.5\" y=\"-149.3\" font-family=\"Helvetica,sans-Serif\" font-size=\"14.00\">samples = 7</text>\r\n",
       "<text text-anchor=\"middle\" x=\"585.5\" y=\"-134.3\" font-family=\"Helvetica,sans-Serif\" font-size=\"14.00\">value = [7, 0, 0]</text>\r\n",
       "<text text-anchor=\"middle\" x=\"585.5\" y=\"-119.3\" font-family=\"Helvetica,sans-Serif\" font-size=\"14.00\">class = Summer or regular semester 1=Summer, 2=Regular</text>\r\n",
       "</g>\r\n",
       "<!-- 10&#45;&gt;14 -->\r\n",
       "<g id=\"edge14\" class=\"edge\">\r\n",
       "<title>10&#45;&gt;14</title>\r\n",
       "<path fill=\"none\" stroke=\"black\" d=\"M585.5,-222.91C585.5,-212.2 585.5,-200.62 585.5,-189.78\"/>\r\n",
       "<polygon fill=\"black\" stroke=\"black\" points=\"589,-189.67 585.5,-179.67 582,-189.67 589,-189.67\"/>\r\n",
       "</g>\r\n",
       "<!-- 12 -->\r\n",
       "<g id=\"node13\" class=\"node\">\r\n",
       "<title>12</title>\r\n",
       "<path fill=\"#bdf6d5\" stroke=\"black\" d=\"M263,-68C263,-68 12,-68 12,-68 6,-68 0,-62 0,-56 0,-56 0,-12 0,-12 0,-6 6,0 12,0 12,0 263,0 263,0 269,0 275,-6 275,-12 275,-12 275,-56 275,-56 275,-62 269,-68 263,-68\"/>\r\n",
       "<text text-anchor=\"middle\" x=\"137.5\" y=\"-52.8\" font-family=\"Helvetica,sans-Serif\" font-size=\"14.00\">gini = 0.48</text>\r\n",
       "<text text-anchor=\"middle\" x=\"137.5\" y=\"-37.8\" font-family=\"Helvetica,sans-Serif\" font-size=\"14.00\">samples = 5</text>\r\n",
       "<text text-anchor=\"middle\" x=\"137.5\" y=\"-22.8\" font-family=\"Helvetica,sans-Serif\" font-size=\"14.00\">value = [2, 3, 0]</text>\r\n",
       "<text text-anchor=\"middle\" x=\"137.5\" y=\"-7.8\" font-family=\"Helvetica,sans-Serif\" font-size=\"14.00\">class = score 1=Low, 2=Medium, 3=High</text>\r\n",
       "</g>\r\n",
       "<!-- 11&#45;&gt;12 -->\r\n",
       "<g id=\"edge12\" class=\"edge\">\r\n",
       "<title>11&#45;&gt;12</title>\r\n",
       "<path fill=\"none\" stroke=\"black\" d=\"M197.13,-103.73C189.29,-94.7 180.99,-85.12 173.14,-76.08\"/>\r\n",
       "<polygon fill=\"black\" stroke=\"black\" points=\"175.59,-73.56 166.39,-68.3 170.3,-78.15 175.59,-73.56\"/>\r\n",
       "</g>\r\n",
       "<!-- 13 -->\r\n",
       "<g id=\"node14\" class=\"node\">\r\n",
       "<title>13</title>\r\n",
       "<path fill=\"#c09cf2\" stroke=\"black\" d=\"M454,-68C454,-68 305,-68 305,-68 299,-68 293,-62 293,-56 293,-56 293,-12 293,-12 293,-6 299,0 305,0 305,0 454,0 454,0 460,0 466,-6 466,-12 466,-12 466,-56 466,-56 466,-62 460,-68 454,-68\"/>\r\n",
       "<text text-anchor=\"middle\" x=\"379.5\" y=\"-52.8\" font-family=\"Helvetica,sans-Serif\" font-size=\"14.00\">gini = 0.531</text>\r\n",
       "<text text-anchor=\"middle\" x=\"379.5\" y=\"-37.8\" font-family=\"Helvetica,sans-Serif\" font-size=\"14.00\">samples = 8</text>\r\n",
       "<text text-anchor=\"middle\" x=\"379.5\" y=\"-22.8\" font-family=\"Helvetica,sans-Serif\" font-size=\"14.00\">value = [1, 2, 5]</text>\r\n",
       "<text text-anchor=\"middle\" x=\"379.5\" y=\"-7.8\" font-family=\"Helvetica,sans-Serif\" font-size=\"14.00\">class = Course instructor</text>\r\n",
       "</g>\r\n",
       "<!-- 11&#45;&gt;13 -->\r\n",
       "<g id=\"edge13\" class=\"edge\">\r\n",
       "<title>11&#45;&gt;13</title>\r\n",
       "<path fill=\"none\" stroke=\"black\" d=\"M287.24,-103.73C300.09,-94.15 313.77,-83.96 326.55,-74.44\"/>\r\n",
       "<polygon fill=\"black\" stroke=\"black\" points=\"328.87,-77.08 334.8,-68.3 324.69,-71.47 328.87,-77.08\"/>\r\n",
       "</g>\r\n",
       "<!-- 16 -->\r\n",
       "<g id=\"node17\" class=\"node\">\r\n",
       "<title>16</title>\r\n",
       "<path fill=\"#e9965a\" stroke=\"black\" d=\"M1184,-187C1184,-187 813,-187 813,-187 807,-187 801,-181 801,-175 801,-175 801,-116 801,-116 801,-110 807,-104 813,-104 813,-104 1184,-104 1184,-104 1190,-104 1196,-110 1196,-116 1196,-116 1196,-175 1196,-175 1196,-181 1190,-187 1184,-187\"/>\r\n",
       "<text text-anchor=\"middle\" x=\"998.5\" y=\"-171.8\" font-family=\"Helvetica,sans-Serif\" font-size=\"14.00\">Class size &#160;&lt;= 24.5</text>\r\n",
       "<text text-anchor=\"middle\" x=\"998.5\" y=\"-156.8\" font-family=\"Helvetica,sans-Serif\" font-size=\"14.00\">gini = 0.245</text>\r\n",
       "<text text-anchor=\"middle\" x=\"998.5\" y=\"-141.8\" font-family=\"Helvetica,sans-Serif\" font-size=\"14.00\">samples = 14</text>\r\n",
       "<text text-anchor=\"middle\" x=\"998.5\" y=\"-126.8\" font-family=\"Helvetica,sans-Serif\" font-size=\"14.00\">value = [12, 2, 0]</text>\r\n",
       "<text text-anchor=\"middle\" x=\"998.5\" y=\"-111.8\" font-family=\"Helvetica,sans-Serif\" font-size=\"14.00\">class = Summer or regular semester 1=Summer, 2=Regular</text>\r\n",
       "</g>\r\n",
       "<!-- 15&#45;&gt;16 -->\r\n",
       "<g id=\"edge16\" class=\"edge\">\r\n",
       "<title>15&#45;&gt;16</title>\r\n",
       "<path fill=\"none\" stroke=\"black\" d=\"M1094.5,-222.91C1082.53,-213.38 1069.67,-203.15 1057.39,-193.37\"/>\r\n",
       "<polygon fill=\"black\" stroke=\"black\" points=\"1059.41,-190.51 1049.41,-187.02 1055.06,-195.99 1059.41,-190.51\"/>\r\n",
       "</g>\r\n",
       "<!-- 19 -->\r\n",
       "<g id=\"node20\" class=\"node\">\r\n",
       "<title>19</title>\r\n",
       "<path fill=\"#9cf2c0\" stroke=\"black\" d=\"M1477,-179.5C1477,-179.5 1226,-179.5 1226,-179.5 1220,-179.5 1214,-173.5 1214,-167.5 1214,-167.5 1214,-123.5 1214,-123.5 1214,-117.5 1220,-111.5 1226,-111.5 1226,-111.5 1477,-111.5 1477,-111.5 1483,-111.5 1489,-117.5 1489,-123.5 1489,-123.5 1489,-167.5 1489,-167.5 1489,-173.5 1483,-179.5 1477,-179.5\"/>\r\n",
       "<text text-anchor=\"middle\" x=\"1351.5\" y=\"-164.3\" font-family=\"Helvetica,sans-Serif\" font-size=\"14.00\">gini = 0.56</text>\r\n",
       "<text text-anchor=\"middle\" x=\"1351.5\" y=\"-149.3\" font-family=\"Helvetica,sans-Serif\" font-size=\"14.00\">samples = 5</text>\r\n",
       "<text text-anchor=\"middle\" x=\"1351.5\" y=\"-134.3\" font-family=\"Helvetica,sans-Serif\" font-size=\"14.00\">value = [1, 3, 1]</text>\r\n",
       "<text text-anchor=\"middle\" x=\"1351.5\" y=\"-119.3\" font-family=\"Helvetica,sans-Serif\" font-size=\"14.00\">class = score 1=Low, 2=Medium, 3=High</text>\r\n",
       "</g>\r\n",
       "<!-- 15&#45;&gt;19 -->\r\n",
       "<g id=\"edge19\" class=\"edge\">\r\n",
       "<title>15&#45;&gt;19</title>\r\n",
       "<path fill=\"none\" stroke=\"black\" d=\"M1216.97,-222.91C1238.83,-210.49 1262.78,-196.89 1284.34,-184.64\"/>\r\n",
       "<polygon fill=\"black\" stroke=\"black\" points=\"1286.14,-187.65 1293.1,-179.67 1282.68,-181.56 1286.14,-187.65\"/>\r\n",
       "</g>\r\n",
       "<!-- 17 -->\r\n",
       "<g id=\"node18\" class=\"node\">\r\n",
       "<title>17</title>\r\n",
       "<path fill=\"#e58139\" stroke=\"black\" d=\"M1025,-68C1025,-68 654,-68 654,-68 648,-68 642,-62 642,-56 642,-56 642,-12 642,-12 642,-6 648,0 654,0 654,0 1025,0 1025,0 1031,0 1037,-6 1037,-12 1037,-12 1037,-56 1037,-56 1037,-62 1031,-68 1025,-68\"/>\r\n",
       "<text text-anchor=\"middle\" x=\"839.5\" y=\"-52.8\" font-family=\"Helvetica,sans-Serif\" font-size=\"14.00\">gini = 0.0</text>\r\n",
       "<text text-anchor=\"middle\" x=\"839.5\" y=\"-37.8\" font-family=\"Helvetica,sans-Serif\" font-size=\"14.00\">samples = 8</text>\r\n",
       "<text text-anchor=\"middle\" x=\"839.5\" y=\"-22.8\" font-family=\"Helvetica,sans-Serif\" font-size=\"14.00\">value = [8, 0, 0]</text>\r\n",
       "<text text-anchor=\"middle\" x=\"839.5\" y=\"-7.8\" font-family=\"Helvetica,sans-Serif\" font-size=\"14.00\">class = Summer or regular semester 1=Summer, 2=Regular</text>\r\n",
       "</g>\r\n",
       "<!-- 16&#45;&gt;17 -->\r\n",
       "<g id=\"edge17\" class=\"edge\">\r\n",
       "<title>16&#45;&gt;17</title>\r\n",
       "<path fill=\"none\" stroke=\"black\" d=\"M939.29,-103.73C925.18,-94.01 910.16,-83.66 896.16,-74.02\"/>\r\n",
       "<polygon fill=\"black\" stroke=\"black\" points=\"897.82,-70.91 887.6,-68.13 893.85,-76.68 897.82,-70.91\"/>\r\n",
       "</g>\r\n",
       "<!-- 18 -->\r\n",
       "<g id=\"node19\" class=\"node\">\r\n",
       "<title>18</title>\r\n",
       "<path fill=\"#f2c09c\" stroke=\"black\" d=\"M1438,-68C1438,-68 1067,-68 1067,-68 1061,-68 1055,-62 1055,-56 1055,-56 1055,-12 1055,-12 1055,-6 1061,0 1067,0 1067,0 1438,0 1438,0 1444,0 1450,-6 1450,-12 1450,-12 1450,-56 1450,-56 1450,-62 1444,-68 1438,-68\"/>\r\n",
       "<text text-anchor=\"middle\" x=\"1252.5\" y=\"-52.8\" font-family=\"Helvetica,sans-Serif\" font-size=\"14.00\">gini = 0.444</text>\r\n",
       "<text text-anchor=\"middle\" x=\"1252.5\" y=\"-37.8\" font-family=\"Helvetica,sans-Serif\" font-size=\"14.00\">samples = 6</text>\r\n",
       "<text text-anchor=\"middle\" x=\"1252.5\" y=\"-22.8\" font-family=\"Helvetica,sans-Serif\" font-size=\"14.00\">value = [4, 2, 0]</text>\r\n",
       "<text text-anchor=\"middle\" x=\"1252.5\" y=\"-7.8\" font-family=\"Helvetica,sans-Serif\" font-size=\"14.00\">class = Summer or regular semester 1=Summer, 2=Regular</text>\r\n",
       "</g>\r\n",
       "<!-- 16&#45;&gt;18 -->\r\n",
       "<g id=\"edge18\" class=\"edge\">\r\n",
       "<title>16&#45;&gt;18</title>\r\n",
       "<path fill=\"none\" stroke=\"black\" d=\"M1092.72,-103.88C1116.9,-93.46 1142.78,-82.3 1166.52,-72.07\"/>\r\n",
       "<polygon fill=\"black\" stroke=\"black\" points=\"1168.05,-75.22 1175.85,-68.04 1165.28,-68.79 1168.05,-75.22\"/>\r\n",
       "</g>\r\n",
       "<!-- 21 -->\r\n",
       "<g id=\"node22\" class=\"node\">\r\n",
       "<title>21</title>\r\n",
       "<path fill=\"#acf4ca\" stroke=\"black\" d=\"M1947,-425C1947,-425 1696,-425 1696,-425 1690,-425 1684,-419 1684,-413 1684,-413 1684,-354 1684,-354 1684,-348 1690,-342 1696,-342 1696,-342 1947,-342 1947,-342 1953,-342 1959,-348 1959,-354 1959,-354 1959,-413 1959,-413 1959,-419 1953,-425 1947,-425\"/>\r\n",
       "<text text-anchor=\"middle\" x=\"1821.5\" y=\"-409.8\" font-family=\"Helvetica,sans-Serif\" font-size=\"14.00\">Course &lt;= 14.0</text>\r\n",
       "<text text-anchor=\"middle\" x=\"1821.5\" y=\"-394.8\" font-family=\"Helvetica,sans-Serif\" font-size=\"14.00\">gini = 0.554</text>\r\n",
       "<text text-anchor=\"middle\" x=\"1821.5\" y=\"-379.8\" font-family=\"Helvetica,sans-Serif\" font-size=\"14.00\">samples = 17</text>\r\n",
       "<text text-anchor=\"middle\" x=\"1821.5\" y=\"-364.8\" font-family=\"Helvetica,sans-Serif\" font-size=\"14.00\">value = [5, 10, 2]</text>\r\n",
       "<text text-anchor=\"middle\" x=\"1821.5\" y=\"-349.8\" font-family=\"Helvetica,sans-Serif\" font-size=\"14.00\">class = score 1=Low, 2=Medium, 3=High</text>\r\n",
       "</g>\r\n",
       "<!-- 20&#45;&gt;21 -->\r\n",
       "<g id=\"edge21\" class=\"edge\">\r\n",
       "<title>20&#45;&gt;21</title>\r\n",
       "<path fill=\"none\" stroke=\"black\" d=\"M1821.5,-460.91C1821.5,-452.65 1821.5,-443.86 1821.5,-435.3\"/>\r\n",
       "<polygon fill=\"black\" stroke=\"black\" points=\"1825,-435.02 1821.5,-425.02 1818,-435.02 1825,-435.02\"/>\r\n",
       "</g>\r\n",
       "<!-- 26 -->\r\n",
       "<g id=\"node27\" class=\"node\">\r\n",
       "<title>26</title>\r\n",
       "<path fill=\"#e9fcf1\" stroke=\"black\" d=\"M2425,-425C2425,-425 2174,-425 2174,-425 2168,-425 2162,-419 2162,-413 2162,-413 2162,-354 2162,-354 2162,-348 2168,-342 2174,-342 2174,-342 2425,-342 2425,-342 2431,-342 2437,-348 2437,-354 2437,-354 2437,-413 2437,-413 2437,-419 2431,-425 2425,-425\"/>\r\n",
       "<text text-anchor=\"middle\" x=\"2299.5\" y=\"-409.8\" font-family=\"Helvetica,sans-Serif\" font-size=\"14.00\">Class size &#160;&lt;= 19.5</text>\r\n",
       "<text text-anchor=\"middle\" x=\"2299.5\" y=\"-394.8\" font-family=\"Helvetica,sans-Serif\" font-size=\"14.00\">gini = 0.555</text>\r\n",
       "<text text-anchor=\"middle\" x=\"2299.5\" y=\"-379.8\" font-family=\"Helvetica,sans-Serif\" font-size=\"14.00\">samples = 16</text>\r\n",
       "<text text-anchor=\"middle\" x=\"2299.5\" y=\"-364.8\" font-family=\"Helvetica,sans-Serif\" font-size=\"14.00\">value = [1, 8, 7]</text>\r\n",
       "<text text-anchor=\"middle\" x=\"2299.5\" y=\"-349.8\" font-family=\"Helvetica,sans-Serif\" font-size=\"14.00\">class = score 1=Low, 2=Medium, 3=High</text>\r\n",
       "</g>\r\n",
       "<!-- 20&#45;&gt;26 -->\r\n",
       "<g id=\"edge26\" class=\"edge\">\r\n",
       "<title>20&#45;&gt;26</title>\r\n",
       "<path fill=\"none\" stroke=\"black\" d=\"M1959.12,-467.82C2019.46,-453.05 2090.39,-435.68 2151.84,-420.64\"/>\r\n",
       "<polygon fill=\"black\" stroke=\"black\" points=\"2152.73,-424.03 2161.61,-418.25 2151.07,-417.23 2152.73,-424.03\"/>\r\n",
       "</g>\r\n",
       "<!-- 22 -->\r\n",
       "<g id=\"node23\" class=\"node\">\r\n",
       "<title>22</title>\r\n",
       "<path fill=\"#7beeab\" stroke=\"black\" d=\"M1770,-306C1770,-306 1519,-306 1519,-306 1513,-306 1507,-300 1507,-294 1507,-294 1507,-235 1507,-235 1507,-229 1513,-223 1519,-223 1519,-223 1770,-223 1770,-223 1776,-223 1782,-229 1782,-235 1782,-235 1782,-294 1782,-294 1782,-300 1776,-306 1770,-306\"/>\r\n",
       "<text text-anchor=\"middle\" x=\"1644.5\" y=\"-290.8\" font-family=\"Helvetica,sans-Serif\" font-size=\"14.00\">Class size &#160;&lt;= 28.5</text>\r\n",
       "<text text-anchor=\"middle\" x=\"1644.5\" y=\"-275.8\" font-family=\"Helvetica,sans-Serif\" font-size=\"14.00\">gini = 0.43</text>\r\n",
       "<text text-anchor=\"middle\" x=\"1644.5\" y=\"-260.8\" font-family=\"Helvetica,sans-Serif\" font-size=\"14.00\">samples = 11</text>\r\n",
       "<text text-anchor=\"middle\" x=\"1644.5\" y=\"-245.8\" font-family=\"Helvetica,sans-Serif\" font-size=\"14.00\">value = [1, 8, 2]</text>\r\n",
       "<text text-anchor=\"middle\" x=\"1644.5\" y=\"-230.8\" font-family=\"Helvetica,sans-Serif\" font-size=\"14.00\">class = score 1=Low, 2=Medium, 3=High</text>\r\n",
       "</g>\r\n",
       "<!-- 21&#45;&gt;22 -->\r\n",
       "<g id=\"edge22\" class=\"edge\">\r\n",
       "<title>21&#45;&gt;22</title>\r\n",
       "<path fill=\"none\" stroke=\"black\" d=\"M1760.09,-341.91C1745.4,-332.2 1729.61,-321.76 1714.56,-311.81\"/>\r\n",
       "<polygon fill=\"black\" stroke=\"black\" points=\"1716.07,-308.62 1705.8,-306.02 1712.21,-314.45 1716.07,-308.62\"/>\r\n",
       "</g>\r\n",
       "<!-- 25 -->\r\n",
       "<g id=\"node26\" class=\"node\">\r\n",
       "<title>25</title>\r\n",
       "<path fill=\"#f2c09c\" stroke=\"black\" d=\"M2183,-298.5C2183,-298.5 1812,-298.5 1812,-298.5 1806,-298.5 1800,-292.5 1800,-286.5 1800,-286.5 1800,-242.5 1800,-242.5 1800,-236.5 1806,-230.5 1812,-230.5 1812,-230.5 2183,-230.5 2183,-230.5 2189,-230.5 2195,-236.5 2195,-242.5 2195,-242.5 2195,-286.5 2195,-286.5 2195,-292.5 2189,-298.5 2183,-298.5\"/>\r\n",
       "<text text-anchor=\"middle\" x=\"1997.5\" y=\"-283.3\" font-family=\"Helvetica,sans-Serif\" font-size=\"14.00\">gini = 0.444</text>\r\n",
       "<text text-anchor=\"middle\" x=\"1997.5\" y=\"-268.3\" font-family=\"Helvetica,sans-Serif\" font-size=\"14.00\">samples = 6</text>\r\n",
       "<text text-anchor=\"middle\" x=\"1997.5\" y=\"-253.3\" font-family=\"Helvetica,sans-Serif\" font-size=\"14.00\">value = [4, 2, 0]</text>\r\n",
       "<text text-anchor=\"middle\" x=\"1997.5\" y=\"-238.3\" font-family=\"Helvetica,sans-Serif\" font-size=\"14.00\">class = Summer or regular semester 1=Summer, 2=Regular</text>\r\n",
       "</g>\r\n",
       "<!-- 21&#45;&gt;25 -->\r\n",
       "<g id=\"edge25\" class=\"edge\">\r\n",
       "<title>21&#45;&gt;25</title>\r\n",
       "<path fill=\"none\" stroke=\"black\" d=\"M1882.56,-341.91C1900.82,-329.77 1920.79,-316.49 1938.89,-304.46\"/>\r\n",
       "<polygon fill=\"black\" stroke=\"black\" points=\"1941.22,-307.12 1947.61,-298.67 1937.34,-301.29 1941.22,-307.12\"/>\r\n",
       "</g>\r\n",
       "<!-- 23 -->\r\n",
       "<g id=\"node24\" class=\"node\">\r\n",
       "<title>23</title>\r\n",
       "<path fill=\"#39e581\" stroke=\"black\" d=\"M1770,-179.5C1770,-179.5 1519,-179.5 1519,-179.5 1513,-179.5 1507,-173.5 1507,-167.5 1507,-167.5 1507,-123.5 1507,-123.5 1507,-117.5 1513,-111.5 1519,-111.5 1519,-111.5 1770,-111.5 1770,-111.5 1776,-111.5 1782,-117.5 1782,-123.5 1782,-123.5 1782,-167.5 1782,-167.5 1782,-173.5 1776,-179.5 1770,-179.5\"/>\r\n",
       "<text text-anchor=\"middle\" x=\"1644.5\" y=\"-164.3\" font-family=\"Helvetica,sans-Serif\" font-size=\"14.00\">gini = 0.0</text>\r\n",
       "<text text-anchor=\"middle\" x=\"1644.5\" y=\"-149.3\" font-family=\"Helvetica,sans-Serif\" font-size=\"14.00\">samples = 6</text>\r\n",
       "<text text-anchor=\"middle\" x=\"1644.5\" y=\"-134.3\" font-family=\"Helvetica,sans-Serif\" font-size=\"14.00\">value = [0, 6, 0]</text>\r\n",
       "<text text-anchor=\"middle\" x=\"1644.5\" y=\"-119.3\" font-family=\"Helvetica,sans-Serif\" font-size=\"14.00\">class = score 1=Low, 2=Medium, 3=High</text>\r\n",
       "</g>\r\n",
       "<!-- 22&#45;&gt;23 -->\r\n",
       "<g id=\"edge23\" class=\"edge\">\r\n",
       "<title>22&#45;&gt;23</title>\r\n",
       "<path fill=\"none\" stroke=\"black\" d=\"M1644.5,-222.91C1644.5,-212.2 1644.5,-200.62 1644.5,-189.78\"/>\r\n",
       "<polygon fill=\"black\" stroke=\"black\" points=\"1648,-189.67 1644.5,-179.67 1641,-189.67 1648,-189.67\"/>\r\n",
       "</g>\r\n",
       "<!-- 24 -->\r\n",
       "<g id=\"node25\" class=\"node\">\r\n",
       "<title>24</title>\r\n",
       "<path fill=\"#ffffff\" stroke=\"black\" d=\"M2063,-179.5C2063,-179.5 1812,-179.5 1812,-179.5 1806,-179.5 1800,-173.5 1800,-167.5 1800,-167.5 1800,-123.5 1800,-123.5 1800,-117.5 1806,-111.5 1812,-111.5 1812,-111.5 2063,-111.5 2063,-111.5 2069,-111.5 2075,-117.5 2075,-123.5 2075,-123.5 2075,-167.5 2075,-167.5 2075,-173.5 2069,-179.5 2063,-179.5\"/>\r\n",
       "<text text-anchor=\"middle\" x=\"1937.5\" y=\"-164.3\" font-family=\"Helvetica,sans-Serif\" font-size=\"14.00\">gini = 0.64</text>\r\n",
       "<text text-anchor=\"middle\" x=\"1937.5\" y=\"-149.3\" font-family=\"Helvetica,sans-Serif\" font-size=\"14.00\">samples = 5</text>\r\n",
       "<text text-anchor=\"middle\" x=\"1937.5\" y=\"-134.3\" font-family=\"Helvetica,sans-Serif\" font-size=\"14.00\">value = [1, 2, 2]</text>\r\n",
       "<text text-anchor=\"middle\" x=\"1937.5\" y=\"-119.3\" font-family=\"Helvetica,sans-Serif\" font-size=\"14.00\">class = score 1=Low, 2=Medium, 3=High</text>\r\n",
       "</g>\r\n",
       "<!-- 22&#45;&gt;24 -->\r\n",
       "<g id=\"edge24\" class=\"edge\">\r\n",
       "<title>22&#45;&gt;24</title>\r\n",
       "<path fill=\"none\" stroke=\"black\" d=\"M1746.15,-222.91C1778.21,-210.11 1813.43,-196.04 1844.83,-183.51\"/>\r\n",
       "<polygon fill=\"black\" stroke=\"black\" points=\"1846.45,-186.63 1854.44,-179.67 1843.86,-180.13 1846.45,-186.63\"/>\r\n",
       "</g>\r\n",
       "<!-- 27 -->\r\n",
       "<g id=\"node28\" class=\"node\">\r\n",
       "<title>27</title>\r\n",
       "<path fill=\"#8139e5\" stroke=\"black\" d=\"M2374,-298.5C2374,-298.5 2225,-298.5 2225,-298.5 2219,-298.5 2213,-292.5 2213,-286.5 2213,-286.5 2213,-242.5 2213,-242.5 2213,-236.5 2219,-230.5 2225,-230.5 2225,-230.5 2374,-230.5 2374,-230.5 2380,-230.5 2386,-236.5 2386,-242.5 2386,-242.5 2386,-286.5 2386,-286.5 2386,-292.5 2380,-298.5 2374,-298.5\"/>\r\n",
       "<text text-anchor=\"middle\" x=\"2299.5\" y=\"-283.3\" font-family=\"Helvetica,sans-Serif\" font-size=\"14.00\">gini = 0.0</text>\r\n",
       "<text text-anchor=\"middle\" x=\"2299.5\" y=\"-268.3\" font-family=\"Helvetica,sans-Serif\" font-size=\"14.00\">samples = 5</text>\r\n",
       "<text text-anchor=\"middle\" x=\"2299.5\" y=\"-253.3\" font-family=\"Helvetica,sans-Serif\" font-size=\"14.00\">value = [0, 0, 5]</text>\r\n",
       "<text text-anchor=\"middle\" x=\"2299.5\" y=\"-238.3\" font-family=\"Helvetica,sans-Serif\" font-size=\"14.00\">class = Course instructor</text>\r\n",
       "</g>\r\n",
       "<!-- 26&#45;&gt;27 -->\r\n",
       "<g id=\"edge27\" class=\"edge\">\r\n",
       "<title>26&#45;&gt;27</title>\r\n",
       "<path fill=\"none\" stroke=\"black\" d=\"M2299.5,-341.91C2299.5,-331.2 2299.5,-319.62 2299.5,-308.78\"/>\r\n",
       "<polygon fill=\"black\" stroke=\"black\" points=\"2303,-308.67 2299.5,-298.67 2296,-308.67 2303,-308.67\"/>\r\n",
       "</g>\r\n",
       "<!-- 28 -->\r\n",
       "<g id=\"node29\" class=\"node\">\r\n",
       "<title>28</title>\r\n",
       "<path fill=\"#7beeab\" stroke=\"black\" d=\"M2667,-306C2667,-306 2416,-306 2416,-306 2410,-306 2404,-300 2404,-294 2404,-294 2404,-235 2404,-235 2404,-229 2410,-223 2416,-223 2416,-223 2667,-223 2667,-223 2673,-223 2679,-229 2679,-235 2679,-235 2679,-294 2679,-294 2679,-300 2673,-306 2667,-306\"/>\r\n",
       "<text text-anchor=\"middle\" x=\"2541.5\" y=\"-290.8\" font-family=\"Helvetica,sans-Serif\" font-size=\"14.00\">Class size &#160;&lt;= 38.0</text>\r\n",
       "<text text-anchor=\"middle\" x=\"2541.5\" y=\"-275.8\" font-family=\"Helvetica,sans-Serif\" font-size=\"14.00\">gini = 0.43</text>\r\n",
       "<text text-anchor=\"middle\" x=\"2541.5\" y=\"-260.8\" font-family=\"Helvetica,sans-Serif\" font-size=\"14.00\">samples = 11</text>\r\n",
       "<text text-anchor=\"middle\" x=\"2541.5\" y=\"-245.8\" font-family=\"Helvetica,sans-Serif\" font-size=\"14.00\">value = [1, 8, 2]</text>\r\n",
       "<text text-anchor=\"middle\" x=\"2541.5\" y=\"-230.8\" font-family=\"Helvetica,sans-Serif\" font-size=\"14.00\">class = score 1=Low, 2=Medium, 3=High</text>\r\n",
       "</g>\r\n",
       "<!-- 26&#45;&gt;28 -->\r\n",
       "<g id=\"edge28\" class=\"edge\">\r\n",
       "<title>26&#45;&gt;28</title>\r\n",
       "<path fill=\"none\" stroke=\"black\" d=\"M2383.46,-341.91C2404.48,-331.74 2427.16,-320.78 2448.59,-310.42\"/>\r\n",
       "<polygon fill=\"black\" stroke=\"black\" points=\"2450.21,-313.52 2457.69,-306.02 2447.16,-307.22 2450.21,-313.52\"/>\r\n",
       "</g>\r\n",
       "<!-- 29 -->\r\n",
       "<g id=\"node30\" class=\"node\">\r\n",
       "<title>29</title>\r\n",
       "<path fill=\"#6aeca0\" stroke=\"black\" d=\"M2521,-179.5C2521,-179.5 2270,-179.5 2270,-179.5 2264,-179.5 2258,-173.5 2258,-167.5 2258,-167.5 2258,-123.5 2258,-123.5 2258,-117.5 2264,-111.5 2270,-111.5 2270,-111.5 2521,-111.5 2521,-111.5 2527,-111.5 2533,-117.5 2533,-123.5 2533,-123.5 2533,-167.5 2533,-167.5 2533,-173.5 2527,-179.5 2521,-179.5\"/>\r\n",
       "<text text-anchor=\"middle\" x=\"2395.5\" y=\"-164.3\" font-family=\"Helvetica,sans-Serif\" font-size=\"14.00\">gini = 0.32</text>\r\n",
       "<text text-anchor=\"middle\" x=\"2395.5\" y=\"-149.3\" font-family=\"Helvetica,sans-Serif\" font-size=\"14.00\">samples = 5</text>\r\n",
       "<text text-anchor=\"middle\" x=\"2395.5\" y=\"-134.3\" font-family=\"Helvetica,sans-Serif\" font-size=\"14.00\">value = [1, 4, 0]</text>\r\n",
       "<text text-anchor=\"middle\" x=\"2395.5\" y=\"-119.3\" font-family=\"Helvetica,sans-Serif\" font-size=\"14.00\">class = score 1=Low, 2=Medium, 3=High</text>\r\n",
       "</g>\r\n",
       "<!-- 28&#45;&gt;29 -->\r\n",
       "<g id=\"edge29\" class=\"edge\">\r\n",
       "<title>28&#45;&gt;29</title>\r\n",
       "<path fill=\"none\" stroke=\"black\" d=\"M2490.85,-222.91C2475.97,-210.99 2459.73,-197.98 2444.94,-186.12\"/>\r\n",
       "<polygon fill=\"black\" stroke=\"black\" points=\"2446.88,-183.19 2436.89,-179.67 2442.5,-188.65 2446.88,-183.19\"/>\r\n",
       "</g>\r\n",
       "<!-- 30 -->\r\n",
       "<g id=\"node31\" class=\"node\">\r\n",
       "<title>30</title>\r\n",
       "<path fill=\"#9cf2c0\" stroke=\"black\" d=\"M2814,-179.5C2814,-179.5 2563,-179.5 2563,-179.5 2557,-179.5 2551,-173.5 2551,-167.5 2551,-167.5 2551,-123.5 2551,-123.5 2551,-117.5 2557,-111.5 2563,-111.5 2563,-111.5 2814,-111.5 2814,-111.5 2820,-111.5 2826,-117.5 2826,-123.5 2826,-123.5 2826,-167.5 2826,-167.5 2826,-173.5 2820,-179.5 2814,-179.5\"/>\r\n",
       "<text text-anchor=\"middle\" x=\"2688.5\" y=\"-164.3\" font-family=\"Helvetica,sans-Serif\" font-size=\"14.00\">gini = 0.444</text>\r\n",
       "<text text-anchor=\"middle\" x=\"2688.5\" y=\"-149.3\" font-family=\"Helvetica,sans-Serif\" font-size=\"14.00\">samples = 6</text>\r\n",
       "<text text-anchor=\"middle\" x=\"2688.5\" y=\"-134.3\" font-family=\"Helvetica,sans-Serif\" font-size=\"14.00\">value = [0, 4, 2]</text>\r\n",
       "<text text-anchor=\"middle\" x=\"2688.5\" y=\"-119.3\" font-family=\"Helvetica,sans-Serif\" font-size=\"14.00\">class = score 1=Low, 2=Medium, 3=High</text>\r\n",
       "</g>\r\n",
       "<!-- 28&#45;&gt;30 -->\r\n",
       "<g id=\"edge30\" class=\"edge\">\r\n",
       "<title>28&#45;&gt;30</title>\r\n",
       "<path fill=\"none\" stroke=\"black\" d=\"M2592.5,-222.91C2607.47,-210.99 2623.83,-197.98 2638.72,-186.12\"/>\r\n",
       "<polygon fill=\"black\" stroke=\"black\" points=\"2641.18,-188.63 2646.83,-179.67 2636.82,-183.16 2641.18,-188.63\"/>\r\n",
       "</g>\r\n",
       "</g>\r\n",
       "</svg>\r\n"
      ],
      "text/plain": [
       "<graphviz.files.Source at 0x1ae09af74c0>"
      ]
     },
     "execution_count": 47,
     "metadata": {},
     "output_type": "execute_result"
    }
   ],
   "source": [
    "import os \n",
    "os.environ[\"Path\"]+=os.pathsep+ r'C:\\Program Files\\Graphviz\\bin'\n",
    "def plot_tree(tree, dataframe, label_col, label_encoder,plot_title):\n",
    "    label_names=['Summer or regular semester 1=Summer, 2=Regular','score 1=Low, 2=Medium, 3=High','Course instructor']\n",
    "    graph_data= export_graphviz(tree,\n",
    "                               feature_names=dataframe.drop(label_col,axis=1).columns,\n",
    "                               class_names=label_names,\n",
    "                               filled=True,\n",
    "                               rounded=True,\n",
    "                               out_file=None)\n",
    "    graph= graphviz.Source(graph_data)\n",
    "    graph.render(plot_title,view=True)\n",
    "    return graph\n",
    "tree_graph= plot_tree(tree,dataset,'score 1=Low, 2=Medium, 3=High',le,'tae')\n",
    "tree_graph"
   ]
  },
  {
   "cell_type": "code",
   "execution_count": null,
   "metadata": {},
   "outputs": [],
   "source": []
  }
 ],
 "metadata": {
  "kernelspec": {
   "display_name": "Python 3",
   "language": "python",
   "name": "python3"
  },
  "language_info": {
   "codemirror_mode": {
    "name": "ipython",
    "version": 3
   },
   "file_extension": ".py",
   "mimetype": "text/x-python",
   "name": "python",
   "nbconvert_exporter": "python",
   "pygments_lexer": "ipython3",
   "version": "3.8.5"
  }
 },
 "nbformat": 4,
 "nbformat_minor": 4
}
